{
 "cells": [
  {
   "cell_type": "code",
   "execution_count": 1,
   "metadata": {},
   "outputs": [
    {
     "name": "stdout",
     "output_type": "stream",
     "text": [
      "hello\n"
     ]
    }
   ],
   "source": [
    "print('hello')"
   ]
  },
  {
   "cell_type": "code",
   "execution_count": 15,
   "metadata": {},
   "outputs": [
    {
     "name": "stdout",
     "output_type": "stream",
     "text": [
      "4950\n",
      "---------------------------\n",
      "4950\n"
     ]
    }
   ],
   "source": [
    "# Calcular a soma dos 100 primeiros numeros naturais\n",
    "\n",
    "\n",
    "soma = 0\n",
    "for i in range(100):\n",
    "    soma += i\n",
    "\n",
    "contador = 0\n",
    "somaNum = 0\n",
    "while(contador < 100):\n",
    "    somaNum += contador\n",
    "    contador += 1\n",
    "    \n",
    "\n",
    "print(soma)\n",
    "print('---------' * 3)\n",
    "print(somaNum)\n",
    "\n"
   ]
  },
  {
   "cell_type": "code",
   "execution_count": 25,
   "metadata": {},
   "outputs": [
    {
     "name": "stdout",
     "output_type": "stream",
     "text": [
      "0\n",
      "7\n",
      "14\n",
      "21\n",
      "28\n",
      "35\n",
      "42\n",
      "49\n",
      "56\n",
      "63\n",
      "70\n",
      "77\n",
      "84\n",
      "91\n",
      "98\n",
      "105\n",
      "112\n",
      "119\n",
      "126\n",
      "133\n",
      "140\n",
      "147\n",
      "154\n",
      "161\n",
      "168\n",
      "175\n",
      "182\n",
      "189\n",
      "196\n"
     ]
    }
   ],
   "source": [
    "# Imprimir os múltiplos de 7 menores que 200\n",
    "# for i in range(200):\n",
    "#     if(i % 7 ==0):\n",
    "#         print(i)\n",
    "\n",
    "contador = 0\n",
    "while(contador < 200):\n",
    "    if contador % 7 == 0:\n",
    "        print(contador)\n",
    "    contador += 1\n"
   ]
  },
  {
   "cell_type": "code",
   "execution_count": 33,
   "metadata": {},
   "outputs": [
    {
     "name": "stdout",
     "output_type": "stream",
     "text": [
      "0\n",
      "4\n",
      "8\n",
      "12\n",
      "16\n",
      "20\n",
      "24\n",
      "28\n",
      "32\n",
      "36\n",
      "40\n",
      "------------------\n",
      "0\n",
      "4\n",
      "8\n",
      "12\n",
      "16\n",
      "20\n",
      "24\n",
      "28\n",
      "32\n",
      "36\n",
      "40\n"
     ]
    }
   ],
   "source": [
    "# Imprimir a Tabuada do Numero 4\n",
    "\n",
    "for i in range(11):\n",
    "    tabuada = 4 * i\n",
    "    print(tabuada)\n",
    "\n",
    "print(\"------\" * 3)\n",
    "contador = 0\n",
    "while(contador <= 10):\n",
    "    tab = 4 * contador\n",
    "    print(tab)\n",
    "    contador += 1"
   ]
  },
  {
   "cell_type": "code",
   "execution_count": 35,
   "metadata": {},
   "outputs": [
    {
     "name": "stdout",
     "output_type": "stream",
     "text": [
      "0\n",
      "2\n",
      "4\n",
      "6\n",
      "8\n",
      "10\n",
      "12\n",
      "14\n",
      "16\n",
      "18\n",
      "20\n"
     ]
    }
   ],
   "source": [
    "# Imprimir a tabuada de qualquer numero n\n",
    "\n",
    "n = int(input('Digite um numero aqui: '))\n",
    "for i in range(11):\n",
    "    tab = n * i\n",
    "    print(tab)"
   ]
  },
  {
   "cell_type": "code",
   "execution_count": 37,
   "metadata": {},
   "outputs": [
    {
     "name": "stdout",
     "output_type": "stream",
     "text": [
      "14\n",
      "16\n",
      "18\n",
      "20\n",
      "22\n",
      "24\n",
      "26\n",
      "28\n",
      "30\n",
      "32\n",
      "34\n",
      "36\n",
      "38\n",
      "40\n",
      "42\n",
      "44\n",
      "46\n",
      "48\n",
      "50\n",
      "52\n",
      "54\n",
      "56\n",
      "58\n",
      "60\n",
      "62\n",
      "64\n",
      "66\n",
      "68\n",
      "70\n",
      "72\n"
     ]
    }
   ],
   "source": [
    "# calcular e mostrar a media aritmetica dos numeros pares compreendidos entre 13 e 73\n",
    "soma = 0\n",
    "contador = 0\n",
    "for i in range(13, 73):\n",
    "    if(i % 2 == 0):\n",
    "        soma = soma + i\n",
    "        contador = contador + 1\n",
    "media = soma / contador\n",
    "print(media)\n",
    "\n",
    "contador = 13\n",
    "while (contador <= 73):\n",
    "    if contador % 2 == 0:\n",
    "        media = (contador + contador)\n",
    "        print(contador)\n",
    "    contador += 1\n"
   ]
  },
  {
   "cell_type": "code",
   "execution_count": 41,
   "metadata": {},
   "outputs": [
    {
     "name": "stdout",
     "output_type": "stream",
     "text": [
      "Fibonacci sequence:\n",
      "0\n",
      "1\n",
      "1\n",
      "2\n",
      "3\n",
      "5\n",
      "8\n",
      "13\n",
      "21\n",
      "34\n"
     ]
    }
   ],
   "source": [
    "'''\n",
    "    A série de Fibonacci é uma seqüência de termos que tem como os 2 primeiros termos,\n",
    "    respectivamente, os números 0 e 1. A partir daí, os demais termos são formados seguindo uma\n",
    "    certa regra. A série de Fibonacci pode ser vista a seguir:\n",
    "                                0 1 1 2 3 5 8 13 21...\n",
    "    Descubra a regra que gera a seqüência da série de Fibonacci e escreva um algoritmo que gere\n",
    "    os n (solicitados pelo usuário) primeiros termos desta série e calcula e escreve a soma destes\n",
    "    termos.\n",
    "'''\n",
    "\n",
    "nterms = int(input(\"How many terms? \"))\n",
    "\n",
    "# first two terms\n",
    "n1, n2 = 0, 1\n",
    "count = 0\n",
    "\n",
    "# check if the number of terms is valid\n",
    "if nterms <= 0:\n",
    "   print(\"Please enter a positive integer\")\n",
    "# if there is only one term, return n1\n",
    "elif nterms == 1:\n",
    "   print(\"Fibonacci sequence upto\",nterms,\":\")\n",
    "   print(n1)\n",
    "# generate fibonacci sequence\n",
    "else:\n",
    "   print(\"Fibonacci sequence:\")\n",
    "   while count < nterms:\n",
    "       print(n1)\n",
    "       nth = n1 + n2\n",
    "       # update values\n",
    "       n1 = n2\n",
    "       n2 = nth\n",
    "       count += 1"
   ]
  },
  {
   "cell_type": "code",
   "execution_count": 43,
   "metadata": {},
   "outputs": [
    {
     "name": "stdout",
     "output_type": "stream",
     "text": [
      "0 1 1 2 3 5 8 13 21 34 55 89 "
     ]
    }
   ],
   "source": [
    "antNum = 0\n",
    "atual = 1\n",
    "proxNum = 0\n",
    "print(antNum, end=' ')\n",
    "print(atual, end=' ')\n",
    "for i in range(10):\n",
    "    proxNum = atual + antNum\n",
    "    print(proxNum, end=' ')\n",
    "    antNum = atual\n",
    "    atual = proxNum"
   ]
  },
  {
   "cell_type": "code",
   "execution_count": 45,
   "metadata": {},
   "outputs": [
    {
     "name": "stdout",
     "output_type": "stream",
     "text": [
      "240.0\n",
      "240.0\n",
      "240.0\n",
      "240.0\n",
      "240.0\n",
      "240.0\n",
      "240.0\n",
      "240.0\n",
      "240.0\n",
      "240.0\n",
      "240.0\n",
      "240.0\n",
      "240.0\n",
      "240.0\n",
      "240.0\n"
     ]
    }
   ],
   "source": [
    "# Uma pessoa aplicou o capital de R$ 1.200,00 a uma taxa de 2% ao mês durante 14 meses. Determine os juros e o montante dessa aplicação.\n",
    "\n",
    "'''\n",
    "    J = C x i x t\n",
    "\n",
    "    Onde\n",
    "\n",
    "    J = Juros simples\n",
    "    C = capital inicial\n",
    "    i = taxa de juros\n",
    "    t = tempo de aplicação\n",
    "\n",
    "'''\n",
    "c = 1200\n",
    "j = 0.2\n",
    "\n",
    "for t in range(0, 15):\n",
    "    total = (c * j)\n",
    "    t += 1\n",
    "    print(total)"
   ]
  }
 ],
 "metadata": {
  "kernelspec": {
   "display_name": "Python 3.10.5 64-bit",
   "language": "python",
   "name": "python3"
  },
  "language_info": {
   "codemirror_mode": {
    "name": "ipython",
    "version": 3
   },
   "file_extension": ".py",
   "mimetype": "text/x-python",
   "name": "python",
   "nbconvert_exporter": "python",
   "pygments_lexer": "ipython3",
   "version": "3.10.5"
  },
  "orig_nbformat": 4,
  "vscode": {
   "interpreter": {
    "hash": "d7843322c0069a8e6b5a97e2d94a84c3dea6b94ea7b4ec0179e7f399cc19950f"
   }
  }
 },
 "nbformat": 4,
 "nbformat_minor": 2
}

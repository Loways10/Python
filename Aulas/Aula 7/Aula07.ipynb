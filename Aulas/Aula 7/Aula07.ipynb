{
  "nbformat": 4,
  "nbformat_minor": 0,
  "metadata": {
    "colab": {
      "name": "Aula07.ipynb",
      "provenance": [],
      "collapsed_sections": []
    },
    "kernelspec": {
      "name": "python3",
      "display_name": "Python 3"
    },
    "language_info": {
      "name": "python"
    }
  },
  "cells": [
    {
      "cell_type": "markdown",
      "source": [
        "#PYTHON\n",
        "VETORES"
      ],
      "metadata": {
        "id": "P2rt_XxNpykM"
      }
    },
    {
      "cell_type": "markdown",
      "source": [
        "## TUPLA\n",
        "### VARIAVEL COMPOSTA\n",
        "\n",
        "#### AS TUPLAS SÃO IMUTÁVEIS => NÃO PODEM SER ALTERADAS APÓS A DECLARAÇÃO \n",
        "\n",
        "##### DECLARAÇÃO \n",
        "##### nomeTupla = (valor, valor, valor, valor, valor)"
      ],
      "metadata": {
        "id": "SucXcX7qqg0C"
      }
    },
    {
      "cell_type": "code",
      "source": [
        "## Exemmplo\n",
        "\n",
        "linguagens = ('C', 'Java', 'Javascript', 'C++', 'C#', 'PHP', 'Python', 'Ruby', 'R') #Criando uma TUPLA\n",
        "print(type(linguagens))\n",
        "\n",
        "linguas = ('C',)\n",
        "print(type(linguas))\n",
        "\n",
        "ling = tuple('C')\n",
        "print(type(ling))\n",
        "\n",
        "lin = tuple('C',) \n",
        "print(type(lin))\n",
        "\n",
        "print(linguagens)\n",
        "print(linguagens[2]) #lembra que começa do 0\n",
        "\n",
        "print(len(linguagens))\n",
        "\n",
        "print(linguagens[-1]) #Ultimo valor\n",
        "print(linguagens[len(linguagens) -1]) #Ultimo valor"
      ],
      "metadata": {
        "colab": {
          "base_uri": "https://localhost:8080/"
        },
        "id": "LZiWzQIQp1J5",
        "outputId": "ceb1d152-9764-49ae-b609-082fbff77e78"
      },
      "execution_count": 6,
      "outputs": [
        {
          "output_type": "stream",
          "name": "stdout",
          "text": [
            "<class 'tuple'>\n",
            "<class 'tuple'>\n",
            "<class 'tuple'>\n",
            "<class 'tuple'>\n",
            "('C', 'Java', 'Javascript', 'C++', 'C#', 'PHP', 'Python', 'Ruby', 'R')\n",
            "Javascript\n",
            "9\n",
            "R\n",
            "R\n"
          ]
        }
      ]
    },
    {
      "cell_type": "code",
      "source": [
        "# Fatiamento\n",
        "print(linguagens[1:5]) # 1 - 4\n",
        "print(linguagens[2:]) # 2 - Ultimo\n",
        "print(linguagens[:4]) # 4 primeiros\n",
        "print(linguagens[-3]) # 3 de trás para frente\n",
        "print(linguagens[-4:]) # 4 ultimos"
      ],
      "metadata": {
        "colab": {
          "base_uri": "https://localhost:8080/"
        },
        "id": "fFvqm3BirG8p",
        "outputId": "e0428a71-cf0d-4ba4-9d9f-39e747f6b249"
      },
      "execution_count": 8,
      "outputs": [
        {
          "output_type": "stream",
          "name": "stdout",
          "text": [
            "('Java', 'Javascript', 'C++', 'C#')\n",
            "('Javascript', 'C++', 'C#', 'PHP', 'Python', 'Ruby', 'R')\n",
            "('C', 'Java', 'Javascript', 'C++')\n",
            "Python\n",
            "('PHP', 'Python', 'Ruby', 'R')\n"
          ]
        }
      ]
    },
    {
      "cell_type": "code",
      "source": [
        "# Alterando a tupla\n",
        "# IMPOSSIVEL\n",
        "print('Não adianta tentar mudar a tupla')"
      ],
      "metadata": {
        "colab": {
          "base_uri": "https://localhost:8080/"
        },
        "id": "VauWhjmEtOel",
        "outputId": "f2e5db1f-8b4e-4d63-ee9f-8cb3a5889a98"
      },
      "execution_count": 9,
      "outputs": [
        {
          "output_type": "stream",
          "name": "stdout",
          "text": [
            "Não adianta tentar mudar a tupla\n"
          ]
        }
      ]
    },
    {
      "cell_type": "code",
      "source": [
        "## FUNÇÕES NATIVAS DA TUPLA\n",
        "\n",
        "num = (10, 20, 15, -5)\n",
        "\n",
        "# ORDENAR\n",
        "print(linguagens)\n",
        "print(sorted(linguagens)) #sorted(tupla) Não altera a tupla\n",
        "print(linguagens)\n",
        "\n",
        "print(num)\n",
        "print(sorted(num))\n",
        "print(num)\n",
        "\n",
        "#Buscar pelo valor\n",
        "print(linguagens.index('Java')) #Buscar indice do valor\n",
        "print(num.index(20))\n",
        "\n",
        "#maximo\n",
        "print(max(num)) #valor maximo\n",
        "#minimo\n",
        "print(min(num))#valor minimo\n",
        "#soma\n",
        "print(sum(num)) #Soma\n",
        "#tamanho\n",
        "print(len(num))#tamanho da tupla\n",
        "\n",
        "# del(num) #deleta a tupla"
      ],
      "metadata": {
        "colab": {
          "base_uri": "https://localhost:8080/"
        },
        "id": "-twXbL1euHRs",
        "outputId": "75bd3855-068a-4e10-c3d6-78142248a6f8"
      },
      "execution_count": 13,
      "outputs": [
        {
          "output_type": "stream",
          "name": "stdout",
          "text": [
            "('C', 'Java', 'Javascript', 'C++', 'C#', 'PHP', 'Python', 'Ruby', 'R')\n",
            "['C', 'C#', 'C++', 'Java', 'Javascript', 'PHP', 'Python', 'R', 'Ruby']\n",
            "('C', 'Java', 'Javascript', 'C++', 'C#', 'PHP', 'Python', 'Ruby', 'R')\n",
            "(10, 20, 15, -5)\n",
            "[-5, 10, 15, 20]\n",
            "(10, 20, 15, -5)\n",
            "1\n",
            "1\n",
            "20\n",
            "-5\n",
            "40\n",
            "4\n"
          ]
        }
      ]
    },
    {
      "cell_type": "markdown",
      "source": [
        "##Lista\n",
        "###Variavel composta\n",
        "#### Declaração\n",
        "##### nomeTupla = [valor, valor, valor, valor, valor]"
      ],
      "metadata": {
        "id": "roTk-stBwT4k"
      }
    },
    {
      "cell_type": "code",
      "source": [
        "#Criando Listas\n",
        "roupas = ['Blusa', 'Calça', 'Meia', 'Casaco']\n",
        "print(type(roupas))\n",
        "print(roupas) \n",
        "print(len(roupas))\n",
        "\n",
        "numeros = list(range(10, 31, 2))\n",
        "print(type(numeros))\n",
        "print(numeros)\n",
        "print(len(numeros))\n",
        "\n",
        "teste = []\n",
        "print(type(teste))\n",
        "print(teste)\n",
        "print(len(teste))\n",
        "\n"
      ],
      "metadata": {
        "colab": {
          "base_uri": "https://localhost:8080/"
        },
        "id": "w6i8lelVvEwo",
        "outputId": "93ab21cd-7260-4201-86dc-6e5915f32d57"
      },
      "execution_count": 20,
      "outputs": [
        {
          "output_type": "stream",
          "name": "stdout",
          "text": [
            "<class 'list'>\n",
            "['Blusa', 'Calça', 'Meia', 'Casaco']\n",
            "4\n",
            "<class 'list'>\n",
            "[10, 12, 14, 16, 18, 20, 22, 24, 26, 28, 30]\n",
            "11\n",
            "<class 'list'>\n",
            "[]\n",
            "0\n"
          ]
        }
      ]
    },
    {
      "cell_type": "code",
      "source": [
        "carros = ['Palio', 'Gol', 'Celta', 'Corsa']\n",
        "print(carros)\n",
        "print(len(carros))\n",
        "\n",
        "# Adiciona um novo item\n",
        "carros.append('Fusca') #Adiciona ao final da Lista -> Ultimmo item\n",
        "# carros.append(input('Digite um carro: '))\n",
        "print(carros)\n",
        "print(len(carros))\n",
        "\n",
        "#Inserindo em um indice especifico\n",
        "carros.insert(2, 'Fox') # Adiciona um item na posição selecionada, no caso, a posição 2\n",
        "# carros.insert(2, input('Digite aqui um Carro: '))\n",
        "print(carros)\n",
        "print(len(carros))\n",
        "\n",
        "# Removendo pelo indice\n",
        "del carros[2]\n",
        "print(carros)\n",
        "print(len(carros))\n",
        "\n",
        "carros.pop(-1) # Removendo ultimo Item\n",
        "print(carros)\n",
        "print(len(carros))\n",
        "\n",
        "carros.pop() # Se não passar o item ele exclui o ultimo\n",
        "print(carros)\n",
        "print(len(carros))\n",
        "\n",
        "# Remover pelo valor\n",
        "\n",
        "carros.remove('Celta')\n",
        "print(carros)\n",
        "print(len(carros))\n",
        "\n",
        "# Alterar Valor\n",
        "carros[0] = 'Celta'\n",
        "print(carros)\n",
        "print(len(carros))\n",
        "\n",
        "carros[1] = 'Palio'\n",
        "print(carros)\n",
        "print(len(carros))\n",
        "\n",
        "del carros #deleta lista"
      ],
      "metadata": {
        "colab": {
          "base_uri": "https://localhost:8080/"
        },
        "id": "5oNjtVbAwq4l",
        "outputId": "83bcecde-e853-4026-bb99-3178aa8da397"
      },
      "execution_count": 25,
      "outputs": [
        {
          "output_type": "stream",
          "name": "stdout",
          "text": [
            "['Palio', 'Gol', 'Celta', 'Corsa']\n",
            "4\n",
            "['Palio', 'Gol', 'Celta', 'Corsa', 'Fusca']\n",
            "5\n",
            "['Palio', 'Gol', 'Fox', 'Celta', 'Corsa', 'Fusca']\n",
            "6\n",
            "['Palio', 'Gol', 'Celta', 'Corsa', 'Fusca']\n",
            "5\n",
            "['Palio', 'Gol', 'Celta', 'Corsa']\n",
            "4\n",
            "['Palio', 'Gol', 'Celta']\n",
            "3\n",
            "['Palio', 'Gol']\n",
            "2\n",
            "['Celta', 'Gol']\n",
            "2\n",
            "['Celta', 'Palio']\n",
            "2\n"
          ]
        }
      ]
    },
    {
      "cell_type": "code",
      "source": [
        "# Copia a tabela\n",
        "carros = ['Palio', 'Gol', 'Celta', 'Corsa']\n",
        "moto = ['moto1', 'moto2', 'moto3']\n",
        "\n",
        "outrosCarros = carros[:]\n",
        "outrosCarros = moto[0:2]\n",
        "print(outrosCarros)\n",
        "print(len(outrosCarros))"
      ],
      "metadata": {
        "colab": {
          "base_uri": "https://localhost:8080/"
        },
        "id": "C3LuIK00yNX6",
        "outputId": "beb9116c-6c4a-43c0-8178-bf2707ef8b78"
      },
      "execution_count": 27,
      "outputs": [
        {
          "output_type": "stream",
          "name": "stdout",
          "text": [
            "['moto1', 'moto2']\n",
            "2\n"
          ]
        }
      ]
    },
    {
      "cell_type": "code",
      "source": [
        "# Teste Logico\n",
        "\n",
        "# Existe o valor tal dentro da Lista?\n",
        "\n",
        "car = input('Pesquise o carro na Loja: ')\n",
        "if('Gol' in carros):\n",
        "  print('Existe')\n",
        "else:\n",
        "  print('Não Existe')"
      ],
      "metadata": {
        "colab": {
          "base_uri": "https://localhost:8080/"
        },
        "id": "70QfsqII0SdQ",
        "outputId": "f43d370b-de80-4574-e751-73fadd625311"
      },
      "execution_count": 29,
      "outputs": [
        {
          "output_type": "stream",
          "name": "stdout",
          "text": [
            "Pesquise o carro na Loja: Corsa\n",
            "Existe\n"
          ]
        }
      ]
    },
    {
      "cell_type": "code",
      "source": [
        "# Funções\n",
        "# Ordenar\n",
        "valores = [15, 20, 98, -59, 275, 159, 2]\n",
        "print(valores)\n",
        "print(len(valores))\n",
        "valores.sort() # Altera a Lista\n",
        "print(valores)\n",
        "valores.sort(reverse=True) # Decrescente\n",
        "print(valores)\n",
        "\n",
        "# Max\n",
        "print(max(valores))\n",
        "\n",
        "# Min\n",
        "print(min(valores))\n",
        "\n",
        "# Tammanho\n",
        "print(len(valores))\n",
        "\n",
        "# Soma\n",
        "print(sum(valores))\n",
        "\n",
        "# Ordenar sem alterar a lista\n",
        "print(sorted(valores)) # Não altera a lista\n",
        "print(valores)\n"
      ],
      "metadata": {
        "colab": {
          "base_uri": "https://localhost:8080/"
        },
        "id": "ZECrxiWT0tko",
        "outputId": "a71df84b-e9e8-4a72-e52b-dd93b0b8719a"
      },
      "execution_count": 33,
      "outputs": [
        {
          "output_type": "stream",
          "name": "stdout",
          "text": [
            "[15, 20, 98, -59, 275, 159, 2]\n",
            "7\n",
            "[-59, 2, 15, 20, 98, 159, 275]\n",
            "[275, 159, 98, 20, 15, 2, -59]\n",
            "275\n",
            "-59\n",
            "7\n",
            "510\n",
            "[-59, 2, 15, 20, 98, 159, 275]\n",
            "[275, 159, 98, 20, 15, 2, -59]\n"
          ]
        }
      ]
    },
    {
      "cell_type": "code",
      "source": [
        "# Listando Itens dos Vetores\n",
        "alunos = ['Kenji', 'Mateus', 'Akio', 'Igor', 'Emerson', 'Davi', 'Sayumi', 'Lorhana', 'Erick', 'Igor']\n",
        "print(alunos)\n",
        "alunos.sort()\n",
        "print(alunos)\n",
        "\n",
        "def linhas():\n",
        "  print('==' * 20)\n",
        "\n",
        "linhas()\n",
        "print('Primeira Forma')\n",
        "for i in range(0, len(alunos)): # i recebe o INDICE do LOOP\n",
        "  print(f'Aluno {alunos[i]} na posição {i}')\n",
        "  # print('Aluno {} na posição {}' .format(alunos[i], i))\n",
        "\n",
        "linhas()\n",
        "print('Segunda Forma')\n",
        "for nome in alunos: #Nome recebe valor\n",
        "  print(f'Aluno {nome}')\n",
        "\n",
        "linhas()\n",
        "print('Terceora Forma')\n",
        "for i, nome in enumerate(alunos): #Enumerate gera DOIS VALORES -> INDICE E VALOR DA LISTA\n",
        "  print(f'Aluno {nome} na posição {i}')\n",
        "\n"
      ],
      "metadata": {
        "colab": {
          "base_uri": "https://localhost:8080/"
        },
        "id": "eHhqhVtr1I9y",
        "outputId": "f4d0be58-ed4e-43cb-f7ee-d09747ded835"
      },
      "execution_count": 40,
      "outputs": [
        {
          "output_type": "stream",
          "name": "stdout",
          "text": [
            "['Kenji', 'Mateus', 'Akio', 'Igor', 'Emerson', 'Davi', 'Sayumi', 'Lorhana', 'Erick', 'Igor']\n",
            "['Akio', 'Davi', 'Emerson', 'Erick', 'Igor', 'Igor', 'Kenji', 'Lorhana', 'Mateus', 'Sayumi']\n",
            "========================================\n",
            "Primeira Forma\n",
            "Aluno Akio na posição 0\n",
            "Aluno Davi na posição 1\n",
            "Aluno Emerson na posição 2\n",
            "Aluno Erick na posição 3\n",
            "Aluno Igor na posição 4\n",
            "Aluno Igor na posição 5\n",
            "Aluno Kenji na posição 6\n",
            "Aluno Lorhana na posição 7\n",
            "Aluno Mateus na posição 8\n",
            "Aluno Sayumi na posição 9\n",
            "========================================\n",
            "Segunda Forma\n",
            "Aluno Akio\n",
            "Aluno Davi\n",
            "Aluno Emerson\n",
            "Aluno Erick\n",
            "Aluno Igor\n",
            "Aluno Igor\n",
            "Aluno Kenji\n",
            "Aluno Lorhana\n",
            "Aluno Mateus\n",
            "Aluno Sayumi\n",
            "========================================\n",
            "Terceora Forma\n",
            "Aluno Akio na posição 0\n",
            "Aluno Davi na posição 1\n",
            "Aluno Emerson na posição 2\n",
            "Aluno Erick na posição 3\n",
            "Aluno Igor na posição 4\n",
            "Aluno Igor na posição 5\n",
            "Aluno Kenji na posição 6\n",
            "Aluno Lorhana na posição 7\n",
            "Aluno Mateus na posição 8\n",
            "Aluno Sayumi na posição 9\n"
          ]
        }
      ]
    },
    {
      "cell_type": "code",
      "source": [
        "# Criar uma lista de numero geradas pelo usuario receba 5 numeros\n",
        "\n",
        "def inputNum():\n",
        "  return int(input(\"Digite um numero: \"))\n",
        "\n",
        "numUsu = []\n",
        "for i in range(0, 5):\n",
        "  numUsu.append(inputNum())\n",
        "\n",
        "\n",
        "print(numUsu)\n",
        "print(f' Maior numero {max(numUsu)}')\n",
        "print(f' Menor numero {min(numUsu)}')\n",
        "print(f' Somatorio {sum(numUsu)}')\n",
        "print(f' Quantidade de itens da Lista {len(numUsu)}')\n",
        "numUsu.sort()\n",
        "print(numUsu)"
      ],
      "metadata": {
        "colab": {
          "base_uri": "https://localhost:8080/"
        },
        "id": "2og1lezH3QPl",
        "outputId": "a43ed27a-55d9-4397-c82a-6ced39c9dd9d"
      },
      "execution_count": 42,
      "outputs": [
        {
          "output_type": "stream",
          "name": "stdout",
          "text": [
            "Digite um numero: 1\n",
            "Digite um numero: 2\n",
            "Digite um numero: 3\n",
            "Digite um numero: 4\n",
            "Digite um numero: 5\n",
            "[1, 2, 3, 4, 5]\n",
            " Maior numero 5\n",
            " Menor numero 1\n",
            " Somatorio 15\n",
            " Quantidade de itens da Lista 5\n",
            "[1, 2, 3, 4, 5]\n"
          ]
        }
      ]
    },
    {
      "cell_type": "code",
      "source": [
        "# Receba 4 nomes e guarde em uma lista, apos receber exiba a lista em ordem alfabetica.\n",
        "# - Regras\n",
        "# - Criar uma função\n",
        "# - Utilizar for"
      ],
      "metadata": {
        "id": "YYjb__lr5JDw"
      },
      "execution_count": null,
      "outputs": []
    }
  ]
}
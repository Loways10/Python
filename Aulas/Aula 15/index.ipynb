{
 "cells": [
  {
   "cell_type": "markdown",
   "metadata": {},
   "source": [
    "#Listas"
   ]
  },
  {
   "cell_type": "code",
   "execution_count": 20,
   "metadata": {},
   "outputs": [
    {
     "name": "stdout",
     "output_type": "stream",
     "text": [
      "['Gustavo', 'Marcos', 'Pedro']\n",
      "[]\n",
      "['Gustavo', 'Marcos', 'Pedro']\n",
      "['João', 'Paulo', 'Rafael']\n",
      "['Akio', 'Kenji', 'Emerson']\n",
      "Pedro\n",
      "Rafael\n",
      "Emerson\n"
     ]
    },
    {
     "data": {
      "text/plain": [
       "\"\\n[\\n\\n    0: ['Gustavo', 'Marcos', 'Pedro']\\n    1: ['João', 'Paulo', 'Rafael']\\n    2: ['Akio', 'Kenji', 'Emerson']\\n\\n]\\n\""
      ]
     },
     "execution_count": 20,
     "metadata": {},
     "output_type": "execute_result"
    }
   ],
   "source": [
    "testes = []\n",
    "teste = list() # teste = [], teste = [1, 2, 3, 4, 5, 6, 7, 8]\n",
    "\n",
    "teste.append('Gustavo')\n",
    "teste.append('Jorge')\n",
    "teste.append('Pedro')\n",
    "\n",
    "teste[1] = \"Marcos\"\n",
    "\n",
    "print(teste)\n",
    "print(testes)\n",
    "testes.append(teste[:])\n",
    "teste.clear()\n",
    "\n",
    "teste.append('João')\n",
    "teste.append('Paulo')\n",
    "teste.append('Rafael')\n",
    "testes.append(teste[:])\n",
    "teste.clear()\n",
    "\n",
    "teste.append('Akio')\n",
    "teste.append('Kenji')\n",
    "teste.append('Emerson')\n",
    "testes.append(teste[:])\n",
    "teste.clear()\n",
    "\n",
    "for i in testes:\n",
    "    print(i)\n",
    "\n",
    "for i in testes:\n",
    "    print(i[2])\n",
    "\n",
    "\n",
    "'''\n",
    "[\n",
    "\n",
    "    0: ['Gustavo', 'Marcos', 'Pedro']\n",
    "    1: ['João', 'Paulo', 'Rafael']\n",
    "    2: ['Akio', 'Kenji', 'Emerson']\n",
    "\n",
    "]\n",
    "'''\n",
    "\n"
   ]
  },
  {
   "cell_type": "code",
   "execution_count": 32,
   "metadata": {},
   "outputs": [
    {
     "name": "stdout",
     "output_type": "stream",
     "text": [
      "[[1, 'Gabriel'], [2, 'Sayumi']]\n",
      "Sayumi\n"
     ]
    }
   ],
   "source": [
    "alunos = []\n",
    "\n",
    "aluno = [1, 'Gabriel']\n",
    "alunos.append(aluno[:])\n",
    "aluno.clear()\n",
    "\n",
    "aluno = [2, 'Sayumi']\n",
    "alunos.append(aluno[:])\n",
    "aluno.clear()\n",
    "\n",
    "print(alunos)\n",
    "\n",
    "'''\n",
    "[\n",
    "\n",
    "    0: [1, 'Gustavo']\n",
    "    1: [2, 'Sayumi']\n",
    "\n",
    "]\n",
    "'''\n",
    "print(alunos[1][1])\n"
   ]
  },
  {
   "cell_type": "code",
   "execution_count": 35,
   "metadata": {},
   "outputs": [
    {
     "name": "stdout",
     "output_type": "stream",
     "text": [
      "----------------\n",
      "Site de Receitas\n",
      "----------------\n",
      "Cadastrar\n",
      "Receita cadastrada com sucesso\n",
      "[[1, 'Macarrão', 'mercado']]\n",
      "-----------------\n",
      "Lista de receitas\n",
      "-----------------\n",
      "Cod: 1....... Nome: Macarrão\n",
      "------------------------------\n",
      "-----------------\n",
      "Lista de receitas\n",
      "-----------------\n",
      "Cod: 1....... Nome: Macarrão\n",
      "------------------------------\n",
      "--------\n",
      "Macarrão\n",
      "--------\n",
      "Receita: \n",
      "mercado\n"
     ]
    }
   ],
   "source": [
    "todasReceitas = []\n",
    "receita  = []\n",
    "\n",
    "def texto(valor):\n",
    "    print('-' * len(valor)) \n",
    "    print(valor)\n",
    "    print('-' * len(valor))\n",
    "\n",
    "def cadastrarReceita():\n",
    "    \n",
    "    print('Cadastrar')\n",
    "    receita.append(int(input('Digite o codigo da receita: ')))\n",
    "    receita.append(input('Digite o nome da Receira: '))\n",
    "    receita.append(input('Digite a Receira: '))\n",
    "\n",
    "    todasReceitas.append(receita[:])\n",
    "\n",
    "    receita.clear()\n",
    "    print('Receita cadastrada com sucesso')\n",
    "    print(todasReceitas)\n",
    "\n",
    "def listarReceitas():\n",
    "    texto('Lista de receitas')\n",
    "    for i in todasReceitas:\n",
    "        print(f'Cod: {i[0]}....... Nome: {i[1]}')\n",
    "        print('-' * 30)\n",
    "\n",
    "def lerReceita():\n",
    "    cod = int(input('Digite o codigo da receita que deseja ler: '))\n",
    "    for i in todasReceitas:\n",
    "        if i[0] == cod:\n",
    "            texto(i[1])\n",
    "            print('Receita: ')\n",
    "            print(i[2])\n",
    "            return\n",
    "    print('Receita não encontrada. :( ')\n",
    "\n",
    "def alterarReceita():\n",
    "    cod = int(input('Digite o codigo da receita que deseja alterar: '))\n",
    "    for i in todasReceitas:\n",
    "        if i[0] == cod:\n",
    "            i[1] == input('Digite o novo codigo: ')\n",
    "            i[2] == input('Digite a nova receita: ')\n",
    "            print('Receita alterada com sucesso')\n",
    "            return\n",
    "    print('Receita não encontrada')\n",
    "\n",
    "\n",
    "\n",
    "texto('Site de Receitas')\n",
    "while(True):\n",
    "    menu = int(input('1 - Ler Receita \\n 2 - Listar Receitas \\n 3 - Cadastrar Receita \\n 4 - Alterar Receita \\n 5 - Sair \\n '))\n",
    "\n",
    "    if( menu == 1):\n",
    "        lerReceita()\n",
    "    elif(menu == 2):\n",
    "        listarReceitas()\n",
    "    elif(menu == 3):\n",
    "        cadastrarReceita()\n",
    "    elif(menu == 4):\n",
    "        alterarReceita()\n",
    "    elif(menu > 4):\n",
    "        break"
   ]
  },
  {
   "cell_type": "code",
   "execution_count": null,
   "metadata": {},
   "outputs": [],
   "source": []
  },
  {
   "cell_type": "markdown",
   "metadata": {},
   "source": []
  }
 ],
 "metadata": {
  "kernelspec": {
   "display_name": "Python 3.10.5 64-bit",
   "language": "python",
   "name": "python3"
  },
  "language_info": {
   "codemirror_mode": {
    "name": "ipython",
    "version": 3
   },
   "file_extension": ".py",
   "mimetype": "text/x-python",
   "name": "python",
   "nbconvert_exporter": "python",
   "pygments_lexer": "ipython3",
   "version": "3.10.5"
  },
  "orig_nbformat": 4,
  "vscode": {
   "interpreter": {
    "hash": "d7843322c0069a8e6b5a97e2d94a84c3dea6b94ea7b4ec0179e7f399cc19950f"
   }
  }
 },
 "nbformat": 4,
 "nbformat_minor": 2
}

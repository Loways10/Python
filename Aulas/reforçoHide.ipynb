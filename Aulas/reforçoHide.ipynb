{
 "cells": [
  {
   "cell_type": "code",
   "execution_count": null,
   "metadata": {},
   "outputs": [],
   "source": [
    "# Crie um programa que recebe um número do usuário e imprima a tabuada daquele respectivo número.\n",
    "\n",
    "# Crie um programa que leia um Vetor de floats (quantas posições vc quiser) e que mostre a soma de todos os valores.\n",
    "# Desafio extra:\n",
    "# Faça o Vetor ficar dinâmico pedindo os dados pro usuário.\n",
    "\n",
    "# Crie um programa que tenha um valor float de 1200 e que leia um Vetor de floats (quantas posições vc quiser) e que mostre o valor final de 1200 menos todos os valores do Vetor.\n",
    "# Desafio extra:\n",
    "# Faça o Vetor ficar dinâmico pedindo os dados pro usuário.\n",
    "\n",
    "# Crie um programa que leia dois Vetores:\n",
    "# Um Vetor terá a lista de frutas (quantas vc quiser);\n",
    "# Para cada fruta crie um Vetor com os seus tipos (quantos vc quiser);\n",
    "# Imprima na tela todas as frutas com seus respectivos tipos;\n",
    "# Ex: \n",
    "# Banana\n",
    "# - Fuji\n",
    "# - Gala\n",
    "\n",
    "# Desafio extra para cada exercício:\n",
    "# Faça cada um dos exercícios com For e com While.\n",
    "\n"
   ]
  },
  {
   "cell_type": "code",
   "execution_count": 11,
   "metadata": {},
   "outputs": [
    {
     "name": "stdout",
     "output_type": "stream",
     "text": [
      " 2 x 1 = 2\n",
      " 2 x 2 = 4\n",
      " 2 x 3 = 6\n",
      " 2 x 4 = 8\n",
      " 2 x 5 = 10\n",
      " 2 x 6 = 12\n",
      " 2 x 7 = 14\n",
      " 2 x 8 = 16\n",
      " 2 x 9 = 18\n",
      " 2 x 10 = 20\n"
     ]
    }
   ],
   "source": [
    "# Crie um programa que recebe um número do usuário e imprima a tabuada daquele respectivo número.\n",
    "\n",
    "\n",
    "numero = int(input('Digite um numero aqui: '))\n",
    "\n",
    "multiplicador = 1\n",
    "\n",
    "while(multiplicador < 11):\n",
    "    print(f' {numero} x {multiplicador} = {numero * multiplicador}')\n",
    "    multiplicador += 1\n",
    "\n",
    "    \n"
   ]
  },
  {
   "cell_type": "code",
   "execution_count": null,
   "metadata": {},
   "outputs": [],
   "source": []
  }
 ],
 "metadata": {
  "kernelspec": {
   "display_name": "Python 3.10.5 64-bit",
   "language": "python",
   "name": "python3"
  },
  "language_info": {
   "codemirror_mode": {
    "name": "ipython",
    "version": 3
   },
   "file_extension": ".py",
   "mimetype": "text/x-python",
   "name": "python",
   "nbconvert_exporter": "python",
   "pygments_lexer": "ipython3",
   "version": "3.10.5"
  },
  "orig_nbformat": 4,
  "vscode": {
   "interpreter": {
    "hash": "d7843322c0069a8e6b5a97e2d94a84c3dea6b94ea7b4ec0179e7f399cc19950f"
   }
  }
 },
 "nbformat": 4,
 "nbformat_minor": 2
}

{
 "cells": [
  {
   "cell_type": "code",
   "execution_count": null,
   "metadata": {},
   "outputs": [],
   "source": [
    "# Crie um programa que recebe um número do usuário e imprima a tabuada daquele respectivo número.\n",
    "\n",
    "# Crie um programa que leia um Vetor de floats (quantas posições vc quiser) e que mostre a soma de todos os valores.\n",
    "# Desafio extra:\n",
    "# Faça o Vetor ficar dinâmico pedindo os dados pro usuário.\n",
    "\n",
    "# Crie um programa que tenha um valor float de 1200 e que leia um Vetor de floats (quantas posições vc quiser) e que mostre o valor final de 1200 menos todos os valores do Vetor.\n",
    "# Desafio extra:\n",
    "# Faça o Vetor ficar dinâmico pedindo os dados pro usuário.\n",
    "\n",
    "# Crie um programa que leia dois Vetores:\n",
    "# Um Vetor terá a lista de frutas (quantas vc quiser);\n",
    "# Para cada fruta crie um Vetor com os seus tipos (quantos vc quiser);\n",
    "# Imprima na tela todas as frutas com seus respectivos tipos;\n",
    "# Ex: \n",
    "# Banana\n",
    "# - Fuji\n",
    "# - Gala\n",
    "\n",
    "# Desafio extra para cada exercício:\n",
    "# Faça cada um dos exercícios com For e com While.\n",
    "\n"
   ]
  },
  {
   "cell_type": "code",
   "execution_count": 11,
   "metadata": {},
   "outputs": [
    {
     "name": "stdout",
     "output_type": "stream",
     "text": [
      " 2 x 1 = 2\n",
      " 2 x 2 = 4\n",
      " 2 x 3 = 6\n",
      " 2 x 4 = 8\n",
      " 2 x 5 = 10\n",
      " 2 x 6 = 12\n",
      " 2 x 7 = 14\n",
      " 2 x 8 = 16\n",
      " 2 x 9 = 18\n",
      " 2 x 10 = 20\n"
     ]
    }
   ],
   "source": [
    "# Crie um programa que recebe um número do usuário e imprima a tabuada daquele respectivo número.\n",
    "\n",
    "\n",
    "numero = int(input('Digite um numero aqui: '))\n",
    "multiplicador = 1\n",
    "\n",
    "while(multiplicador < 11):\n",
    "    print(f' {numero} x {multiplicador} = {numero * multiplicador}')\n",
    "    multiplicador += 1\n",
    "\n",
    "    \n"
   ]
  },
  {
   "cell_type": "code",
   "execution_count": 23,
   "metadata": {},
   "outputs": [
    {
     "name": "stdout",
     "output_type": "stream",
     "text": [
      "1\n",
      "2 x 1 = 2\n",
      "2\n",
      "2 x 2 = 4\n",
      "3\n",
      "2 x 3 = 6\n",
      "4\n",
      "2 x 4 = 8\n",
      "5\n",
      "2 x 5 = 10\n",
      "6\n",
      "2 x 6 = 12\n",
      "7\n",
      "2 x 7 = 14\n",
      "8\n",
      "2 x 8 = 16\n",
      "9\n",
      "2 x 9 = 18\n",
      "10\n",
      "2 x 10 = 20\n"
     ]
    }
   ],
   "source": [
    "numero = int(input('Digite aqui um numero: '))\n",
    "\n",
    "for x in range(1, 11):\n",
    "    print(f'{numero} x {x} = {numero * x}')\n",
    "\n"
   ]
  },
  {
   "cell_type": "code",
   "execution_count": 1,
   "metadata": {},
   "outputs": [
    {
     "name": "stdout",
     "output_type": "stream",
     "text": [
      "37\n"
     ]
    }
   ],
   "source": [
    "# Crie um programa que leia um Vetor de floats (quantas posições vc quiser) e que mostre a soma de todos os valores.\n",
    "# Desafio extra:\n",
    "# Faça o Vetor ficar dinâmico pedindo os dados pro usuário.\n",
    "\n",
    "listaNum = [11, 2, 3, 5, 7, 9]\n",
    "\n",
    "print(sum(listaNum))"
   ]
  },
  {
   "cell_type": "code",
   "execution_count": 24,
   "metadata": {},
   "outputs": [
    {
     "name": "stdout",
     "output_type": "stream",
     "text": [
      "[10.0, 20.0, 30.0, 40.0, 50.0]\n",
      "150.0\n"
     ]
    }
   ],
   "source": [
    "# Desafio extra:\n",
    "# Faça o Vetor ficar dinâmico pedindo os dados pro usuário.\n",
    "\n",
    "listaNum = []\n",
    "\n",
    "contador = 1\n",
    "while(contador <= 5):\n",
    "    listaNum.append(float(input('Digite aqui um numero: ')))\n",
    "    contador += 1\n",
    "\n",
    "print(listaNum)\n",
    "print(sum(listaNum))\n"
   ]
  },
  {
   "cell_type": "code",
   "execution_count": 22,
   "metadata": {},
   "outputs": [
    {
     "name": "stdout",
     "output_type": "stream",
     "text": [
      "[5.0, 6.0, 4.0, 10.0, 20.0]\n",
      "45.0\n"
     ]
    }
   ],
   "source": [
    "listaNum = []\n",
    "\n",
    "for x in range(5):\n",
    "    listaNum.append(float(input('Digite um numero: ')))\n",
    "    \n",
    "print(listaNum)\n",
    "print(sum(listaNum))"
   ]
  },
  {
   "cell_type": "code",
   "execution_count": 9,
   "metadata": {},
   "outputs": [
    {
     "name": "stdout",
     "output_type": "stream",
     "text": [
      "950\n"
     ]
    }
   ],
   "source": [
    "# Crie um programa que tenha um valor float de 1200 e que leia um Vetor de floats (quantas posições vc quiser) e que mostre o valor final de 1200 menos todos os valores do Vetor.\n",
    "# Desafio extra:\n",
    "# Faça o Vetor ficar dinâmico pedindo os dados pro usuário.\n",
    "\n",
    "num = 1200\n",
    "numeros = [10, 50, 60, 30, 100]\n",
    "\n",
    "print(num - (sum(numeros)))"
   ]
  },
  {
   "cell_type": "code",
   "execution_count": 10,
   "metadata": {},
   "outputs": [
    {
     "name": "stdout",
     "output_type": "stream",
     "text": [
      "1010.0\n"
     ]
    }
   ],
   "source": [
    "# Desafio extra:\n",
    "# Faça o Vetor ficar dinâmico pedindo os dados pro usuário.\n",
    "num = 1200\n",
    "numeros = []\n",
    "\n",
    "for x in range(5):\n",
    "    numeros.append(float(input('Insira um numero: ')))\n",
    "\n",
    "print(numeros)\n",
    "print(num - (sum(numeros)))"
   ]
  },
  {
   "cell_type": "code",
   "execution_count": 12,
   "metadata": {},
   "outputs": [
    {
     "name": "stdout",
     "output_type": "stream",
     "text": [
      "banana ['dagua', 'nanica', 'prata']\n",
      "maça ['gala', 'argentina', 'fuji']\n",
      "laranja ['lima', 'pera']\n"
     ]
    }
   ],
   "source": [
    "# Crie um programa que leia dois Vetores:\n",
    "# Um Vetor terá a lista de frutas (quantas vc quiser);\n",
    "# Para cada fruta crie um Vetor com os seus tipos (quantos vc quiser);\n",
    "# Imprima na tela todas as frutas com seus respectivos tipos;\n",
    "# Ex: \n",
    "# Banana\n",
    "# - Fuji\n",
    "# - Gala\n",
    "\n",
    "frutas = ['banana', 'maca', 'laranja']\n",
    "banana = ['dagua', 'nanica', 'prata']\n",
    "maca = ['gala', 'argentina', 'fuji']\n",
    "laranja = ['lima', 'pera']\n",
    "\n",
    "\n",
    "print(frutas[0], banana)\n",
    "print(frutas[1], maca)\n",
    "print(frutas[2], laranja)"
   ]
  },
  {
   "cell_type": "code",
   "execution_count": 9,
   "metadata": {},
   "outputs": [
    {
     "name": "stdout",
     "output_type": "stream",
     "text": [
      "Banana\n",
      " - Dagua\n",
      " - Nanica\n",
      " - Prata\n",
      "Maca\n",
      " - Gala\n",
      " - Argentina\n",
      " - Prata\n",
      "Laranja\n",
      " - Lima\n",
      " - Pera\n"
     ]
    }
   ],
   "source": [
    "frutas = ['banana', 'maca', 'laranja']\n",
    "\n",
    "bananaTipo = ['dagua', 'nanica','prata']\n",
    "macaTipo = ['gala', 'argentina', 'prata']\n",
    "laranjaTipo = ['lima', 'pera']\n",
    "\n",
    "for fruta in frutas:\n",
    "    print(fruta.capitalize())\n",
    "    if fruta == 'banana':\n",
    "        for tipo in bananaTipo:\n",
    "            print(f' - {tipo.capitalize()}')\n",
    "    if fruta == 'maca':\n",
    "        for tipo in macaTipo:\n",
    "            print(f' - {tipo.capitalize()}')\n",
    "    if fruta == 'laranja':\n",
    "        for tipo in laranjaTipo:\n",
    "            print(f' - {tipo.capitalize()}')\n",
    "    "
   ]
  },
  {
   "cell_type": "code",
   "execution_count": 17,
   "metadata": {},
   "outputs": [
    {
     "name": "stdout",
     "output_type": "stream",
     "text": [
      "Banana\n",
      " - Dagua\n",
      " - Nanica\n",
      " - Prata\n",
      "Maca\n",
      " - Gala\n",
      " - Argentina\n",
      " - Prata\n",
      "Laranja\n",
      " - Lima\n",
      " - Pera\n"
     ]
    }
   ],
   "source": [
    "frutas = ['banana', 'maca', 'laranja']\n",
    "\n",
    "bananaTipo = ['dagua', 'nanica','prata']\n",
    "macaTipo = ['gala', 'argentina', 'prata']\n",
    "laranjaTipo = ['lima', 'pera']\n",
    "\n",
    "contador = 0\n",
    "while(contador < len(frutas)):\n",
    "    print(frutas[contador].capitalize())\n",
    "    if frutas[contador] == 'banana':\n",
    "        for fruta in bananaTipo:\n",
    "            print(f' - {fruta.capitalize()}')\n",
    "    if frutas[contador] == 'maca':\n",
    "        contadorTipo = 0\n",
    "        while contadorTipo < len(macaTipo):\n",
    "            print(f' - {macaTipo[contadorTipo].capitalize()}')\n",
    "            contadorTipo += 1\n",
    "    if frutas[contador] == 'laranja':\n",
    "        contadorTipo = 0\n",
    "        while contadorTipo < len(laranjaTipo):\n",
    "            print(f' - {laranjaTipo[contadorTipo].capitalize()}')\n",
    "            contadorTipo += 1\n",
    "    contador += 1\n"
   ]
  },
  {
   "cell_type": "code",
   "execution_count": null,
   "metadata": {},
   "outputs": [],
   "source": []
  }
 ],
 "metadata": {
  "kernelspec": {
   "display_name": "Python 3.10.5 64-bit",
   "language": "python",
   "name": "python3"
  },
  "language_info": {
   "codemirror_mode": {
    "name": "ipython",
    "version": 3
   },
   "file_extension": ".py",
   "mimetype": "text/x-python",
   "name": "python",
   "nbconvert_exporter": "python",
   "pygments_lexer": "ipython3",
   "version": "3.10.5"
  },
  "orig_nbformat": 4,
  "vscode": {
   "interpreter": {
    "hash": "d7843322c0069a8e6b5a97e2d94a84c3dea6b94ea7b4ec0179e7f399cc19950f"
   }
  }
 },
 "nbformat": 4,
 "nbformat_minor": 2
}

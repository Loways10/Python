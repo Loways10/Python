{
 "cells": [
  {
   "cell_type": "code",
   "execution_count": 2,
   "metadata": {},
   "outputs": [
    {
     "name": "stdout",
     "output_type": "stream",
     "text": [
      "150\n",
      "30.0\n"
     ]
    }
   ],
   "source": [
    "# Exercicio com while\n",
    "\n",
    "# Leia 5 valores, mostre a media dos numeros e a soma\n",
    "\n",
    "numeros = []\n",
    "\n",
    "# numeros.insert[indice] = valor\n",
    "# numeros.append(valor) -> adiciona ao final da lista\n",
    "\n",
    "contador = 0\n",
    "while(contador < 5):\n",
    "    numeros.append(int(input('Digite um valor ')))\n",
    "    contador += 1\n",
    "# print(numeros[i])\n",
    "\n",
    "soma = 0\n",
    "contador = 0\n",
    "while(contador < len(numeros)):\n",
    "    soma += numeros[contador]\n",
    "    contador += 1\n",
    "\n",
    "media = soma / len(numeros)\n",
    "\n",
    "print(soma)\n",
    "print(media)"
   ]
  },
  {
   "cell_type": "code",
   "execution_count": 3,
   "metadata": {},
   "outputs": [
    {
     "name": "stdout",
     "output_type": "stream",
     "text": [
      "São iguais\n"
     ]
    }
   ],
   "source": [
    "numeros = []\n",
    "\n",
    "for i in range(00, 2):\n",
    "    numeros.append(int(input('Digite um numero: ')))\n",
    "\n",
    "if(numeros[0] == numeros[1]):\n",
    "    print('São iguais')\n",
    "else: \n",
    "    print('São Diferentes')"
   ]
  },
  {
   "cell_type": "code",
   "execution_count": 10,
   "metadata": {},
   "outputs": [
    {
     "name": "stdout",
     "output_type": "stream",
     "text": [
      "('Farinha', 'Arroz', 'Feijão', 'Farofa', 'Ervilha', 'Milho', 'Biscoito')\n",
      "Farinha\n",
      "Arroz\n",
      "Feijão\n",
      "Farofa\n",
      "Ervilha\n",
      "Milho\n",
      "Biscoito\n",
      "------------------\n",
      "Farinha\n",
      "Arroz\n",
      "Feijão\n",
      "Farofa\n",
      "Ervilha\n",
      "Milho\n",
      "Biscoito\n",
      "------------------\n",
      "Farinha   Farinha\n",
      "Arroz   Arroz\n",
      "Feijão   Feijão\n",
      "Farofa   Farofa\n",
      "Ervilha   Ervilha\n",
      "Milho   Milho\n",
      "Biscoito   Biscoito\n",
      "Farinha\n",
      "Arroz\n",
      "Feijão\n",
      "Farofa\n",
      "Ervilha\n",
      "Milho\n",
      "Biscoito\n"
     ]
    }
   ],
   "source": [
    "# Liste todos os itens da prateleira do mercado em linhas diferentes\n",
    "# prateleira [Farinha, arroz, feijão, farofa, ervilha, milho, biscoito]\n",
    "\n",
    "prateleira = ('Farinha', 'Arroz', 'Feijão', 'Farofa', 'Ervilha', 'Milho', 'Biscoito')\n",
    "\n",
    "print(prateleira)\n",
    "\n",
    "for item in prateleira: # item recebe valor da lista\n",
    "    print(item)\n",
    "\n",
    "print('---------' * 2)\n",
    "\n",
    "for i in range(len(prateleira)): # recebe o indice\n",
    "    print(prateleira[i])\n",
    "\n",
    "print('---------' * 2)\n",
    "\n",
    "for i, item in enumerate(prateleira):\n",
    "    print(prateleira[i], ' ', item)\n",
    "\n",
    "contador = 0\n",
    "while(contador < len(prateleira)):\n",
    "    print(prateleira[contador])\n",
    "    contador += 1\n"
   ]
  },
  {
   "cell_type": "code",
   "execution_count": 11,
   "metadata": {},
   "outputs": [
    {
     "name": "stdout",
     "output_type": "stream",
     "text": [
      "Tem\n"
     ]
    }
   ],
   "source": [
    "# Pesquisar um item na prateleira do exercicio anterior e dizer se tem ou não\n",
    "\n",
    "busca = input('Digite o nome de um produto: ')\n",
    "\n",
    "if(busca.capitalize() in prateleira):\n",
    "    print('Tem')\n",
    "else:\n",
    "    print('Não tem')"
   ]
  },
  {
   "cell_type": "code",
   "execution_count": 14,
   "metadata": {},
   "outputs": [
    {
     "name": "stdout",
     "output_type": "stream",
     "text": [
      "Tem\n"
     ]
    }
   ],
   "source": [
    "busca = input('Digite o nome do produto: ')\n",
    "acho = False\n",
    "for item in prateleira:\n",
    "    if(busca.lower() == item.lower()):\n",
    "        achou = True\n",
    "    \n",
    "if(achou):\n",
    "    print('Tem')\n",
    "else: \n",
    "    print('Não tem')"
   ]
  },
  {
   "cell_type": "code",
   "execution_count": null,
   "metadata": {},
   "outputs": [],
   "source": []
  }
 ],
 "metadata": {
  "kernelspec": {
   "display_name": "Python 3.10.5 64-bit",
   "language": "python",
   "name": "python3"
  },
  "language_info": {
   "codemirror_mode": {
    "name": "ipython",
    "version": 3
   },
   "file_extension": ".py",
   "mimetype": "text/x-python",
   "name": "python",
   "nbconvert_exporter": "python",
   "pygments_lexer": "ipython3",
   "version": "3.10.5"
  },
  "orig_nbformat": 4,
  "vscode": {
   "interpreter": {
    "hash": "d7843322c0069a8e6b5a97e2d94a84c3dea6b94ea7b4ec0179e7f399cc19950f"
   }
  }
 },
 "nbformat": 4,
 "nbformat_minor": 2
}

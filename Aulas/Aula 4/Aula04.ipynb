{
  "nbformat": 4,
  "nbformat_minor": 0,
  "metadata": {
    "colab": {
      "name": "Aula04.ipynb",
      "provenance": []
    },
    "kernelspec": {
      "name": "python3",
      "display_name": "Python 3"
    },
    "language_info": {
      "name": "python"
    }
  },
  "cells": [
    {
      "cell_type": "markdown",
      "source": [
        "#While\n",
        "\n",
        "##laço de Remetição -> Estrutura -> loop ->Malha de repetição"
      ],
      "metadata": {
        "id": "j5y4X9rGlXbN"
      }
    },
    {
      "cell_type": "markdown",
      "source": [
        "#While(condição)\n",
        "\n",
        "Faça"
      ],
      "metadata": {
        "id": "kaqIqEo-l61D"
      }
    },
    {
      "cell_type": "code",
      "source": [
        "#for variavel in range(10):\n",
        "\n",
        "#while(testeLogico): -> contador <= Numero // variavel -> True\n",
        "\n",
        "contador = 0\n",
        "while(contador < 10):\n",
        "  print(\"repetição\")\n",
        "  contador += 1\n"
      ],
      "metadata": {
        "colab": {
          "base_uri": "https://localhost:8080/"
        },
        "id": "eRhms7vllgr4",
        "outputId": "a86caef7-f4ed-4b23-f013-4353761cf3ba"
      },
      "execution_count": null,
      "outputs": [
        {
          "output_type": "stream",
          "name": "stdout",
          "text": [
            "repetição\n",
            "repetição\n",
            "repetição\n",
            "repetição\n",
            "repetição\n",
            "repetição\n",
            "repetição\n",
            "repetição\n",
            "repetição\n",
            "repetição\n"
          ]
        }
      ]
    },
    {
      "cell_type": "code",
      "source": [
        "continuar = True\n",
        "while(continuar):\n",
        "  menu = int(input(\"*** Menu *** \\n 1 - Continuar \\n 2 - Sair\"))\n",
        "  if(menu == 2):\n",
        "    continuar = False"
      ],
      "metadata": {
        "colab": {
          "base_uri": "https://localhost:8080/"
        },
        "id": "8LzE8NFMmQDg",
        "outputId": "c040d2bf-7bdd-4c5b-8b83-e2dbd20aaaa1"
      },
      "execution_count": 3,
      "outputs": [
        {
          "name": "stdout",
          "output_type": "stream",
          "text": [
            "*** Menu *** \n",
            " 1 - Continuar \n",
            " 2 - Sair1\n",
            "*** Menu *** \n",
            " 1 - Continuar \n",
            " 2 - Sair2\n"
          ]
        }
      ]
    },
    {
      "cell_type": "code",
      "source": [
        "nota = True\n",
        "num = -1\n",
        "while(num < 0 or num >10):\n",
        "  num = int(input(\"Digite aqui um valor: \"))\n",
        "  \n"
      ],
      "metadata": {
        "colab": {
          "base_uri": "https://localhost:8080/"
        },
        "id": "Npsset3fnRaA",
        "outputId": "6bd51fab-ee8b-4764-a4f9-a394bb3ff9ab"
      },
      "execution_count": null,
      "outputs": [
        {
          "name": "stdout",
          "output_type": "stream",
          "text": [
            "Digite aqui um valor: 5\n"
          ]
        }
      ]
    },
    {
      "cell_type": "code",
      "source": [
        "# Faça um programa que leia um nome de usuario e a sua senha e não aceite senha igual ao nome do usuario,\n",
        "# mostrando uma mensagem de erro e voltando a pedir as informações\n",
        "\n",
        "continuar = True\n",
        "while(continuar):\n",
        "  usuario = input('Digite seu USUARIO: ')\n",
        "  senha = input('Digite sua SENHA: ')\n",
        "  if(usuario != senha):\n",
        "    continuar = False\n",
        "  else:\n",
        "    print('Digite valores diferentes')"
      ],
      "metadata": {
        "colab": {
          "base_uri": "https://localhost:8080/"
        },
        "id": "uRClRlC0rkEJ",
        "outputId": "9a49ca3a-1117-44b7-e8fa-814d5fc0d4b8"
      },
      "execution_count": null,
      "outputs": [
        {
          "name": "stdout",
          "output_type": "stream",
          "text": [
            "Digite seu USUARIO: akio\n",
            "Digite sua SENHA: akio\n",
            "Digite valores diferentes\n",
            "Digite seu USUARIO: akio\n",
            "Digite sua SENHA: 1234\n"
          ]
        }
      ]
    },
    {
      "cell_type": "code",
      "source": [
        "# Desenvolver uma calculadora com menu para selecionar o tipo de\n",
        "# conta adição, subtração, multiplicação e divisçao\n",
        "\n",
        "continuar = True\n",
        "while(continuar):\n",
        "  menu = input('**** CALCULADORA **** \\n 1 - Adição \\n 2 - Subtração \\n 3 - Multiplicação \\n 4 - Divisão \\n Digite outro valor para sair: ')\n",
        "  if(menu.isnumeric()):\n",
        "    menu = int(menu)\n",
        "    if(menu > 0 and menu < 5):\n",
        "      num1 = int(input('Digite um numero: '))\n",
        "      num2 = int(input('Digite outro numero: '))\n",
        "      if(menu == 1):\n",
        "        print(num1 + num2)\n",
        "      elif(menu == 2):\n",
        "        print(num1 - num2)\n",
        "      elif(menu == 3):\n",
        "        print(num1 * num2)\n",
        "      elif(menu == 4):\n",
        "        print(num1 / num2)\n",
        "    else:\n",
        "      continuar = False\n",
        "  else:\n",
        "    continuar = False"
      ],
      "metadata": {
        "colab": {
          "base_uri": "https://localhost:8080/"
        },
        "id": "A94AryRcsiJN",
        "outputId": "f15cae50-70f0-4817-f7e9-54657d06c650"
      },
      "execution_count": 4,
      "outputs": [
        {
          "name": "stdout",
          "output_type": "stream",
          "text": [
            "**** CALCULADORA **** \n",
            " 1 - Adição \n",
            " 2 - Subtração \n",
            " 3 - Multiplicação \n",
            " 4 - Divisão \n",
            " Digite outro valor para sair: 1\n",
            "Digite um numero: 10\n",
            "Digite outro numero: 10\n",
            "20\n",
            "**** CALCULADORA **** \n",
            " 1 - Adição \n",
            " 2 - Subtração \n",
            " 3 - Multiplicação \n",
            " 4 - Divisão \n",
            " Digite outro valor para sair: 5\n"
          ]
        }
      ]
    },
    {
      "cell_type": "code",
      "source": [
        "soma = 0\n",
        "contador = 0\n",
        "while(contador < 6):\n",
        "  num = int(input('Digite um numero: '))\n",
        "  soma += num\n",
        "  contador += 1 # contador = contador + 1\n",
        "print('Total', soma)\n",
        "print('Media', soma / contador)\n"
      ],
      "metadata": {
        "colab": {
          "base_uri": "https://localhost:8080/"
        },
        "id": "v3pPs5OCwDaB",
        "outputId": "5d0b63d9-a6b7-4c52-d093-c11624e3e35a"
      },
      "execution_count": 5,
      "outputs": [
        {
          "output_type": "stream",
          "name": "stdout",
          "text": [
            "Digite um numero: 10\n",
            "Digite um numero: 20\n",
            "Digite um numero: 30\n",
            "Digite um numero: 40\n",
            "Digite um numero: 50\n",
            "Digite um numero: 60\n",
            "Total 210\n",
            "Media 35.0\n"
          ]
        }
      ]
    },
    {
      "cell_type": "code",
      "source": [
        "# Faça um jogo da sorte que guarde um numero (0 - 99) e peça para o usuario\n",
        "# tentar acertar o numero, exiba se errou pra mais ou menos\n",
        "\n",
        "from random import randint\n",
        "\n",
        "segredo = randint(0, 99)\n",
        "continuar = True\n",
        "contador = 1\n",
        "\n",
        "while(continuar):\n",
        "  chute = int(input('Digite um valor entre 0 e 99: \\n'))\n",
        "  if(chute == segredo):\n",
        "    print('Acertô miseravi')\n",
        "    print('Você usou {} chances!' .format(contador))\n",
        "  elif(chute > segredo):\n",
        "    print('Menos')\n",
        "  else:\n",
        "    print('Mais')\n",
        "  contador += 1"
      ],
      "metadata": {
        "id": "bT2DvtsMyihq"
      },
      "execution_count": null,
      "outputs": []
    },
    {
      "cell_type": "code",
      "source": [
        "continuar = True\n",
        "aumento = 0\n",
        "aumento = float(aumento)\n",
        "aposentar = 0\n",
        "aposentar = int(aposentar)\n",
        "\n",
        "\n",
        "while(continuar):\n",
        "  print('Digite \"sair\" no campo \"NOME\" para sair.')\n",
        "  nome = input('Digite aqui o nome: ')\n",
        "  if(nome == 'sair'):\n",
        "    continuar = False\n",
        "    print('***** Programa encerrado *****')\n",
        "  idade = input('Digite aqui a idade: ')\n",
        "  salario = input('Digite aqui o salario: ')\n",
        "  tempo = input('Digite aqui o tempo de trabalho(anos trabalhados): ')\n",
        "  \n",
        "  if(nome == 'sair' or idade == 'sair' or salario == 'sair' or tempo == 'sair'):\n",
        "    continuar = False\n",
        "    print('GG')\n",
        "\n",
        "  nome = (nome).upper()\n",
        "  idade = int(idade)\n",
        "  salario = float(salario)\n",
        "  tempo = int(tempo)\n",
        "  aposentar = idade + tempo\n",
        "\n",
        "\n",
        "  if(salario > 2150):\n",
        "    aumento = salario + (salario * 0.10)\n",
        "  if(salario < 950):\n",
        "    aumento = salario + (salario * 0.20)\n",
        "  if(salario < 2150 and salario > 950):\n",
        "    aumento = salario + (salario * 0.13)\n",
        "  \n",
        "  print(' **** DADOS DO FUNCIONARIO **** \\n', nome, idade, 'anos' '\\n Seu Salario é de: R$', salario, 'e foi reajustado para: R$', aumento, '\\n Possui', aposentar, 'anos de contribuição' ' \\n')\n",
        "  if(aposentar > 70):\n",
        "    print('Já pode se aposentar \\n')\n"
      ],
      "metadata": {
        "id": "DjoqT4k0z9v6",
        "colab": {
          "base_uri": "https://localhost:8080/"
        },
        "outputId": "3932c102-2583-4fde-f731-d0996d09cf8d"
      },
      "execution_count": 17,
      "outputs": [
        {
          "output_type": "stream",
          "name": "stdout",
          "text": [
            "Digite \"sair\" no campo \"NOME\" para sair.\n",
            "Digite aqui o nome: sair\n",
            "***** Programa encerrado *****\n",
            "Digite aqui a idade: 1\n",
            "Digite aqui o salario: 1\n",
            "Digite aqui o tempo de trabalho(anos trabalhados): 1\n",
            "GG\n",
            " **** DADOS DO FUNCIONARIO **** \n",
            " SAIR 1 anos\n",
            " Seu Salario é de: R$ 1.0 e foi reajustado para: R$ 1.2 \n",
            " Possui 2 anos de contribuição \n",
            "\n"
          ]
        }
      ]
    },
    {
      "cell_type": "code",
      "source": [
        "continuar = True\n",
        "aumento = 0\n",
        "aumento = float(aumento)\n",
        "aposentar = 0\n",
        "aposentar = int(aposentar)\n",
        "\n",
        "\n",
        "while(continuar):\n",
        "  print('Digite \"sair\" no campo \"NOME\" para sair.')\n",
        "  nome = input('Digite aqui o nome: ')\n",
        "  if(nome.lower() == 'sair'):\n",
        "    continuar = False\n",
        "    print('***** Programa encerrado ***** EM NOME')\n",
        "  else:\n",
        "    idade = input('Digite aqui a idade: ')\n",
        "    if(idade.lower() == 'sair'):\n",
        "      continuar = False\n",
        "      print('***** Programa encerrado ***** EM IDADE')\n",
        "    else:\n",
        "      salario = input('Digite aqui o Salario: ')\n",
        "      if(salario.lower() == 'sair'):\n",
        "        continuar = False\n",
        "        print('***** Programa encerrado ***** EM SALARIO')\n",
        "      else:\n",
        "        tempo = input('Digite aqui os anos contribuidos: ')\n",
        "        if(tempo == 'sair'):\n",
        "          continuar = False\n",
        "          print('***** Programa encerrado ***** EM TEMPO')\n",
        "        else:\n",
        "          nome = (nome).upper()\n",
        "          idade = int(idade)\n",
        "          salario = float(salario)\n",
        "          tempo = int(tempo)\n",
        "          aposentar = idade + tempo\n",
        "\n",
        "\n",
        "          if(salario > 2150):\n",
        "            aumento = salario + (salario * 0.10)\n",
        "          if(salario < 950):\n",
        "            aumento = salario + (salario * 0.20)\n",
        "          if(salario < 2150 and salario > 950):\n",
        "            aumento = salario + (salario * 0.13)\n",
        "          \n",
        "          print(' **** DADOS DO FUNCIONARIO **** \\n', nome, idade, 'anos' '\\n Seu Salario é de: R$', salario, 'e foi reajustado para: R$', aumento, '\\n Possui', aposentar, 'anos de contribuição' ' \\n')\n",
        "          if(aposentar > 70):\n",
        "            print('Já pode se aposentar \\n')\n",
        "\n",
        "          \n",
        "\n"
      ],
      "metadata": {
        "colab": {
          "base_uri": "https://localhost:8080/"
        },
        "id": "YiaYAtuYkBgo",
        "outputId": "3a659321-e279-4c88-d666-6fa82b599d95"
      },
      "execution_count": 39,
      "outputs": [
        {
          "output_type": "stream",
          "name": "stdout",
          "text": [
            "Digite \"sair\" no campo \"NOME\" para sair.\n",
            "Digite aqui o nome: Akio\n",
            "Digite aqui a idade: 31\n",
            "Digite aqui o Salario: 2560\n",
            "Digite aqui os anos contribuidos: 6\n",
            " **** DADOS DO FUNCIONARIO **** \n",
            " AKIO 31 anos\n",
            " Seu Salario é de: R$ 2560.0 e foi reajustado para: R$ 2816.0 \n",
            " Possui 37 anos de contribuição \n",
            "\n",
            "Digite \"sair\" no campo \"NOME\" para sair.\n",
            "Digite aqui o nome: Jose\n",
            "Digite aqui a idade: 45\n",
            "Digite aqui o Salario: 2000\n",
            "Digite aqui os anos contribuidos: 30\n",
            " **** DADOS DO FUNCIONARIO **** \n",
            " JOSE 45 anos\n",
            " Seu Salario é de: R$ 2000.0 e foi reajustado para: R$ 2260.0 \n",
            " Possui 75 anos de contribuição \n",
            "\n",
            "Já pode se aposentar \n",
            "\n",
            "Digite \"sair\" no campo \"NOME\" para sair.\n",
            "Digite aqui o nome: sair\n",
            "***** Programa encerrado ***** EM NOME\n"
          ]
        }
      ]
    },
    {
      "cell_type": "code",
      "source": [
        ""
      ],
      "metadata": {
        "id": "2GCBg-RMijBS"
      },
      "execution_count": null,
      "outputs": []
    }
  ]
}
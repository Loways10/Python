{
 "cells": [
  {
   "cell_type": "code",
   "execution_count": 3,
   "metadata": {},
   "outputs": [
    {
     "name": "stdout",
     "output_type": "stream",
     "text": [
      "Você está fora do orçamento\n"
     ]
    }
   ],
   "source": [
    "''' \n",
    "    Faça um programa que o usuário informe o salário recebido e o total gasto.\n",
    "    Deverá ser exibido na tela “Gastos dentro do orçamento” caso o valor gasto não\n",
    "    ultrapasse o valor do salário e “Orçamento estourado” se o valor gasto\n",
    "    ultrapassar o valor do salário.\n",
    "\n",
    "'''\n",
    "\n",
    "salario = float(input('Digite o seu salario: '))\n",
    "gasto = float(input('Digite o total do seu gasto mensal: '))\n",
    "\n",
    "if(gasto <= salario):\n",
    "    print('Você está dentro do orçamento')\n",
    "else:\n",
    "    print('Você está fora do orçamento')"
   ]
  },
  {
   "cell_type": "code",
   "execution_count": 5,
   "metadata": {},
   "outputs": [
    {
     "name": "stdout",
     "output_type": "stream",
     "text": [
      "Você está fora do orçamento\n"
     ]
    }
   ],
   "source": [
    "def responderUsuario(msg):\n",
    "    print(msg)\n",
    "\n",
    "def receberDadosUsuario(msg):\n",
    "    return float(input(msg))\n",
    "\n",
    "def verificaGasto(sal, gasto):\n",
    "    if(gasto <= salario):\n",
    "        print('Você está dentro do orçamento')\n",
    "    else:\n",
    "        print('Você está fora do orçamento')\n",
    "\n",
    "salario = receberDadosUsuario('Digite o seu salario: ')\n",
    "gasto = receberDadosUsuario('Digite o total do seu gasto mensal: ')\n",
    "\n",
    "verificaGasto(salario, gasto)"
   ]
  },
  {
   "cell_type": "code",
   "execution_count": 15,
   "metadata": {},
   "outputs": [
    {
     "name": "stdout",
     "output_type": "stream",
     "text": [
      "A media ponderada é 22.22\n"
     ]
    }
   ],
   "source": [
    "''' \n",
    "    Escrever um programa em Python que lê um valor i, inteiro e positivo e 3 valores a, b e c. Se o valor de i é par então calcular e imprimir na tela a média aritmética de a, b e c. Caso contrário, se i>10 então calcular e imprimir na tela a média ponderada de a, b e c. Os pesos dos valores são respectivamente 2, 3 e 4.\n",
    "'''\n",
    "\n",
    "def receberDados(msg):\n",
    "    return input(msg)\n",
    "\n",
    "def verificaInteiro(valor):\n",
    "    if(valor.isnumeric()):\n",
    "        if(int(valor) > 0):\n",
    "            return True\n",
    "        else:\n",
    "            return False\n",
    "    else:\n",
    "        return False\n",
    "\n",
    "def converteInInt(valor):\n",
    "    return int(valor)\n",
    "\n",
    "while(True):\n",
    "    i = receberDados('Digite um numero inteiro: ')    \n",
    "    if(verificaInteiro(i)):\n",
    "        i = converteInInt(i)\n",
    "        break\n",
    "    else:\n",
    "        print('Não é um numero inteiro e positivo')\n",
    "\n",
    "a = converteInInt(receberDados('Digite o valor de a: '))\n",
    "b = converteInInt(receberDados('Digite o valor de b: '))\n",
    "c = converteInInt(receberDados('Digite o valor de c: '))\n",
    "\n",
    "if(i % 2 == 0):\n",
    "    media = (a + b + c) / 3\n",
    "    print(f'A media aritmetica é {media}')\n",
    "elif(i > 10): \n",
    "    media = ((a * 2) + (b * 3 ) + (c * 4)) / 9 # totalPesos\n",
    "    print(f'A media ponderada é {round(media, 2)}')\n",
    "else: \n",
    "    print('Tchau')"
   ]
  },
  {
   "cell_type": "code",
   "execution_count": 17,
   "metadata": {},
   "outputs": [
    {
     "name": "stdout",
     "output_type": "stream",
     "text": [
      "Celsius para Fahrenheit\n",
      "40.0 C são 104.0\n"
     ]
    }
   ],
   "source": [
    "''' \n",
    "    Faça um programa onde o usuario irá escolhe se quer converter graus celsius para fahrenheit ou fahrenheit para celsius.\n",
    "\n",
    "'''\n",
    "\n",
    "menu = int(input(' 1 - Celsius para Fahrenheit \\n 2 - Fharenheit para Celsius \\n 3 Sair \\n R: '))\n",
    "if(menu == 1):\n",
    "    print('Celsius para Fahrenheit')\n",
    "    celsius = float(input('Digite a temperatura em Celsius: '))\n",
    "    formula = (celsius * (9/5) + 32) # \n",
    "    print(f'{celsius} C são {formula}')\n",
    "elif(menu == 2):\n",
    "    print('Fahrenheit para Celsius')\n",
    "    fahrenheit = float(input('Digite aqui a temperatura em Fahrenheit: '))\n",
    "    formula = (fahrenheit - 32) * (5/9)\n",
    "    print(f'{fahrenheit}F são {formula}C')\n",
    "else: \n",
    "    print('Tchau')"
   ]
  },
  {
   "cell_type": "code",
   "execution_count": 25,
   "metadata": {},
   "outputs": [
    {
     "name": "stdout",
     "output_type": "stream",
     "text": [
      "1, 2, 3, 4, 5, 6, 7, 8, 9, 10, 11, 12, 13, 14, 15, 16, 17, 18, 19, 20, 21, 22, 23, 24, 25, 26, 27, 28, 29, 30, 31, 32, 33, 34, 35, 36, 37, 38, 39, 40, 41, 42, 43, 44, 45, 46, 47, 48, 49, 50, 51, 52, 53, 54, 55, 56, 57, 58, 59, 60, 61, 62, 63, 64, 65, 66, 67, 68, 69, 70, 71, 72, 73, 74, 75, 76, 77, 78, 79, 80, 81, 82, 83, 84, 85, 86, 87, 88, 89, 90, 91, 92, 93, 94, 95, 96, 97, 98, 99, 100, \n"
     ]
    }
   ],
   "source": [
    "# Fazer um programa para encontrar todos os numeros pares entre 1 e 100\n",
    "\n",
    "# for i in range(1, 101):\n",
    "#     if(i % 2 == 0):\n",
    "#         print(i)\n",
    " \n",
    "\n",
    "# numero = 1\n",
    "# while(numero <= 100):\n",
    "#     if(numero % 2 == 0):\n",
    "#         print(numero)\n",
    "#     numero += 1\n",
    "\n",
    "# numeros = []\n",
    "# for i in range(1, 101):\n",
    "#     if(i % 2 == 0 ):\n",
    "#         numeros.append(i)\n",
    "# print(numeros)\n",
    "\n",
    "numerosPares = ''\n",
    "for i in range(1, 101):\n",
    "    if(i % 2 == 0 ):\n",
    "        if(i % 2 == 2):\n",
    "            numerosPares += f'({i}, '\n",
    "        elif(i % 2 == 100 ):\n",
    "            numerosPares += f'{i})'\n",
    "        else:\n",
    "            numerosPares += f'{i}, '\n",
    "print(numerosPares)"
   ]
  },
  {
   "cell_type": "code",
   "execution_count": 2,
   "metadata": {},
   "outputs": [
    {
     "name": "stdout",
     "output_type": "stream",
     "text": [
      "1 numeros estão no intervalo\n",
      "9 numeros não estão no intervalo\n"
     ]
    }
   ],
   "source": [
    "# Utilizando a estrutura de repetição for, faça um programa em C que receba 10 números e conte quantos deles estão no intervalo [10,20] e quantos deles estão fora do intervalo, escrevendo estas informações.\n",
    "\n",
    "intervalo = 0\n",
    "foraIntervalo = 0\n",
    "for i in range(10):\n",
    "    numero = int(input('Digite um numero: '))\n",
    "    if(20 >= numero >= 10):\n",
    "        intervalo += 1\n",
    "    else:\n",
    "        foraIntervalo += 1\n",
    "\n",
    "print(f'{intervalo} numeros estão no intervalo')\n",
    "print(f'{foraIntervalo} numeros não estão no intervalo')"
   ]
  },
  {
   "cell_type": "code",
   "execution_count": null,
   "metadata": {},
   "outputs": [],
   "source": []
  }
 ],
 "metadata": {
  "kernelspec": {
   "display_name": "Python 3.10.5 64-bit",
   "language": "python",
   "name": "python3"
  },
  "language_info": {
   "codemirror_mode": {
    "name": "ipython",
    "version": 3
   },
   "file_extension": ".py",
   "mimetype": "text/x-python",
   "name": "python",
   "nbconvert_exporter": "python",
   "pygments_lexer": "ipython3",
   "version": "3.10.5"
  },
  "orig_nbformat": 4,
  "vscode": {
   "interpreter": {
    "hash": "d7843322c0069a8e6b5a97e2d94a84c3dea6b94ea7b4ec0179e7f399cc19950f"
   }
  }
 },
 "nbformat": 4,
 "nbformat_minor": 2
}

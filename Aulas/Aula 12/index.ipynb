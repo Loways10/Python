{
 "cells": [
  {
   "cell_type": "markdown",
   "metadata": {},
   "source": [
    "#Python\n",
    "\n",
    "####Programação orientada a objetos -- POO (OOP - en)\n"
   ]
  },
  {
   "cell_type": "code",
   "execution_count": null,
   "metadata": {},
   "outputs": [],
   "source": []
  }
 ],
 "metadata": {
  "kernelspec": {
   "display_name": "Python 3.10.5 64-bit",
   "language": "python",
   "name": "python3"
  },
  "language_info": {
   "name": "python",
   "version": "3.10.5"
  },
  "orig_nbformat": 4,
  "vscode": {
   "interpreter": {
    "hash": "d7843322c0069a8e6b5a97e2d94a84c3dea6b94ea7b4ec0179e7f399cc19950f"
   }
  }
 },
 "nbformat": 4,
 "nbformat_minor": 2
}

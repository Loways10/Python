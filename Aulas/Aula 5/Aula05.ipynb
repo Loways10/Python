{
  "nbformat": 4,
  "nbformat_minor": 0,
  "metadata": {
    "colab": {
      "name": "Aula05.ipynb",
      "provenance": []
    },
    "kernelspec": {
      "name": "python3",
      "display_name": "Python 3"
    },
    "language_info": {
      "name": "python"
    }
  },
  "cells": [
    {
      "cell_type": "code",
      "execution_count": 8,
      "metadata": {
        "colab": {
          "base_uri": "https://localhost:8080/"
        },
        "id": "TMVzL9FdzH7F",
        "outputId": "8ed06e36-ee22-48b1-9e10-db4b18877e7d"
      },
      "outputs": [
        {
          "output_type": "stream",
          "name": "stdout",
          "text": [
            "***** Jogo da Sorte ***** \n",
            " 1 - Facil \n",
            " 2 - Medio \n",
            " 3 - Dificil \n",
            " 4 - Sair \n",
            " R: 3\n",
            "Medio\n",
            "Digite um numero entre 0 e 100: 50\n",
            "Mais\n",
            "Digite um numero entre 0 e 100: 60\n",
            "Mais\n",
            "Digite um numero entre 0 e 100: 70\n",
            "Mais\n",
            "Digite um numero entre 0 e 100: 80\n",
            "Mais\n",
            "Digite um numero entre 0 e 100: 90\n",
            "Não posso te ajudar\n",
            "Digite um numero entre 0 e 100: 98\n",
            "Não posso te ajudar\n",
            "Digite um numero entre 0 e 100: 95\n",
            "Menos\n",
            "Digite um numero entre 0 e 100: 91\n",
            "Menos\n",
            "Digite um numero entre 0 e 100: 85\n",
            "Menos\n",
            "Digite um numero entre 0 e 100: 83\n",
            "Não posso te ajudar\n",
            "Digite um numero entre 0 e 100: 82\n",
            "Fim da partida\n",
            "Você acertou:  82\n",
            "Com 11 tentativas: \n",
            "***** Jogo da Sorte ***** \n",
            " 1 - Facil \n",
            " 2 - Medio \n",
            " 3 - Dificil \n",
            " 4 - Sair \n",
            " R: 4\n",
            "Fim de jogo\n"
          ]
        }
      ],
      "source": [
        "# Faça um jogo da sorte que guarde um numero (0 -- 99) e\n",
        "# peça para o usuario tentar acertar o numero, exiva se errou para mais ou menos\n",
        "\n",
        "# 1 facil -> 0 25\n",
        "# 2 medio -> 0 -> 100\n",
        "# 3 dificil -> 0 -> 100 -> Cara ->  não dou a dica\n",
        "# 4 ou > 4 -> sair\n",
        "\n",
        "from random import randint\n",
        "\n",
        "continuar = True\n",
        "segredo = 0\n",
        "chances = 0\n",
        "acertou = False\n",
        "\n",
        "while(continuar):\n",
        "  menu = input('***** Jogo da Sorte ***** \\n 1 - Facil \\n 2 - Medio \\n 3 - Dificil \\n 4 - Sair \\n R: ')\n",
        "  if(menu.isnumeric()):\n",
        "    menu = int(menu)\n",
        "    if(menu > 0 and menu < 4):\n",
        "      acertou = False\n",
        "      chances = 0\n",
        "      if(menu == 1):\n",
        "        print('Facil')\n",
        "        segredo = randint(0, 25)\n",
        "        while(not acertou): # == False\n",
        "          chute = int(input('Digite um numero entre 0 e 25: '))\n",
        "          chances +=1\n",
        "          if(chute == segredo):\n",
        "            print('Fim da partida')\n",
        "            print('Você acertou: ', segredo)\n",
        "            print('Com {} tentativas: ' .format(chances))\n",
        "            acertou = True\n",
        "          elif(chute > segredo):\n",
        "            print('Menos!')\n",
        "          else: \n",
        "            print('Mais!')\n",
        "      elif(menu == 2):\n",
        "        print('Medio')\n",
        "        segredo = randint(0, 100)\n",
        "        while(not acertou): # == False\n",
        "          chute = int(input('Digite um numero entre 0 e 100: '))\n",
        "          chances +=1\n",
        "          if(chute == segredo):\n",
        "            print('Fim da partida')\n",
        "            print('Você acertou: ', segredo)\n",
        "            print('Com {} tentativas: ' .format(chances))\n",
        "            acertou = True\n",
        "          elif(chute > segredo):\n",
        "            print('Menos!')\n",
        "          else: \n",
        "            print('Mais!')\n",
        "      elif(menu == 3):\n",
        "        print('Medio')\n",
        "        segredo = randint(0, 100)\n",
        "        while(not acertou): # == False\n",
        "          chute = int(input('Digite um numero entre 0 e 100: '))\n",
        "          chances +=1\n",
        "          if(chute == segredo):\n",
        "            print('Fim da partida')\n",
        "            print('Você acertou: ', segredo)\n",
        "            print('Com {} tentativas: ' .format(chances))\n",
        "            acertou = True\n",
        "          else:\n",
        "            sera = randint(0, 1) #cara e coroa / impar e par\n",
        "            if(sera == 0):\n",
        "              if(chute > segredo):\n",
        "                print('Menos')\n",
        "              else:\n",
        "                print('Mais')\n",
        "            else:\n",
        "              print('Não posso te ajudar')     \n",
        "    else:\n",
        "      print('Fim de jogo')\n",
        "      continuar = False\n",
        "  else:\n",
        "    print(\"Digite um valor Válido!\")\n"
      ]
    },
    {
      "cell_type": "code",
      "source": [
        ""
      ],
      "metadata": {
        "id": "PdO5dVLwzor1"
      },
      "execution_count": null,
      "outputs": []
    }
  ]
}
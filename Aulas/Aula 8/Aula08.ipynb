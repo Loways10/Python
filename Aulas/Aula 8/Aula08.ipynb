{
  "nbformat": 4,
  "nbformat_minor": 0,
  "metadata": {
    "colab": {
      "name": "Aula08.ipynb",
      "provenance": []
    },
    "kernelspec": {
      "name": "python3",
      "display_name": "Python 3"
    },
    "language_info": {
      "name": "python"
    }
  },
  "cells": [
    {
      "cell_type": "code",
      "execution_count": 3,
      "metadata": {
        "colab": {
          "base_uri": "https://localhost:8080/"
        },
        "id": "QZOPv8fzv-G1",
        "outputId": "8f788ce1-90dc-4953-b806-5f55d7e728d5"
      },
      "outputs": [
        {
          "output_type": "stream",
          "name": "stdout",
          "text": [
            "Cadastre um nome: Akio\n",
            "Cadastre um nome: Sayumi\n",
            "Cadastre um nome: Kenji\n",
            "Cadastre um nome: Lorhana\n",
            "Cadastre um nome: Davi\n",
            "Cadastre um nome: lol\n",
            "Cadastre um nome: socorro\n",
            "Cadastre um nome: acaba logo\n",
            "Cadastre um nome: meu Deus\n",
            "Cadastre um nome: socorro\n",
            "Pesquise um nome: me ajuda\n",
            "Não achei\n"
          ]
        }
      ],
      "source": [
        "def perguntaNome(msg):\n",
        "  return input(msg)\n",
        "\n",
        "nomes = [] # Criado um vetor\n",
        "\n",
        "for i in range(10):\n",
        "  nomes.append(perguntaNome(\"Cadastre um nome: \"))\n",
        "\n",
        "nome = perguntaNome(\"Pesquise um nome: \")\n",
        "\n",
        "if nome in nomes:\n",
        "  print('Achei')\n",
        "else:\n",
        "  print('Não achei')"
      ]
    },
    {
      "cell_type": "code",
      "source": [
        "def somarLista(x, y, z):\n",
        "  return A[x] + A[y] + A[z]\n",
        "\n",
        "def alterarLista(indice, valor):\n",
        "  A[indice] = valor\n",
        "\n",
        "def listarItens():\n",
        "  print('Lista')\n",
        "  for valor in A:\n",
        "    print(valor)\n",
        "\n",
        "\n",
        "A = [1, 0, 5, -2, -5, 7]\n",
        "soma = somarLista(0, 1, 5)\n",
        "print(f'O total do somatorio foi {soma}')\n",
        "\n",
        "alterarLista(4, 100)\n",
        "\n",
        "listarItens()\n",
        "\n",
        "for i in range(len(A)):\n",
        "  print(A[i])"
      ],
      "metadata": {
        "colab": {
          "base_uri": "https://localhost:8080/"
        },
        "id": "Njvvzik4wgd5",
        "outputId": "77038dec-a126-49b7-c264-f2d00240dada"
      },
      "execution_count": 6,
      "outputs": [
        {
          "output_type": "stream",
          "name": "stdout",
          "text": [
            "O total do somatorio foi 8\n",
            "Lista\n",
            "1\n",
            "0\n",
            "5\n",
            "-2\n",
            "100\n",
            "7\n",
            "1\n",
            "0\n",
            "5\n",
            "-2\n",
            "100\n",
            "7\n"
          ]
        }
      ]
    },
    {
      "cell_type": "code",
      "source": [
        "def testarInteiro(teste):\n",
        "  while(True):\n",
        "    if(teste.isnumeric()):\n",
        "      return int(teste)\n",
        "    else:\n",
        "      teste = input('Digite um numero inteiro R: ')\n",
        "\n",
        "def receberValores():\n",
        "  valor = input('Digite um numero inteiro R: ')\n",
        "  return testarInteiro(valor)\n",
        "\n",
        "def salvarValores(qnt):\n",
        "  for i in range(qnt):\n",
        "    valores.append(receberValores())\n",
        "\n",
        "valores = []\n",
        "\n",
        "salvarValores(6)\n",
        "print(valores)"
      ],
      "metadata": {
        "colab": {
          "base_uri": "https://localhost:8080/"
        },
        "id": "y06PWohAyShq",
        "outputId": "2ea9c9a0-9e07-4d09-8962-d14a5f53c971"
      },
      "execution_count": 9,
      "outputs": [
        {
          "output_type": "stream",
          "name": "stdout",
          "text": [
            "Digite um numero inteiro R: 15\n",
            "Digite um numero inteiro R: 10\n",
            "Digite um numero inteiro R: 25\n",
            "Digite um numero inteiro R: 8\n",
            "Digite um numero inteiro R: 2\n",
            "Digite um numero inteiro R: 0\n",
            "['15', '10', '25', '8', '2', '0']\n"
          ]
        }
      ]
    },
    {
      "cell_type": "code",
      "source": [
        "def lerNumerosReais():\n",
        "  return float(input('Digite um numero: '))\n",
        "\n",
        "def gravarNumeros(qnt):\n",
        "  for i in range(qnt):\n",
        "    numeros.append(lerNumerosReais())\n",
        "\n",
        "def gerarQuadradoNumeros():\n",
        "  for i in range(len(numeros)):\n",
        "    numerosQuadrados.append(numeros[i] * numeros[i])\n",
        "\n",
        "numeros = []\n",
        "numerosQuadrados = []\n",
        "\n",
        "\n",
        "\n",
        "gravarNumeros(3)\n",
        "print(numeros)\n",
        "gerarQuadradoNumeros()\n",
        "print(numerosQuadrados)"
      ],
      "metadata": {
        "colab": {
          "base_uri": "https://localhost:8080/"
        },
        "id": "XHYrGTVP0kFT",
        "outputId": "63de607e-3f28-41f4-ba20-5f506e2b9679"
      },
      "execution_count": 12,
      "outputs": [
        {
          "output_type": "stream",
          "name": "stdout",
          "text": [
            "Digite um numero: 3\n",
            "Digite um numero: 6\n",
            "Digite um numero: 9\n",
            "[3.0, 6.0, 9.0]\n",
            "[9.0, 36.0, 81.0]\n"
          ]
        }
      ]
    },
    {
      "cell_type": "code",
      "source": [
        "def linhas(qnt):\n",
        "  print('==' * (qnt + 1))\n",
        "\n",
        "def exibirMensagem(msg):\n",
        "  linhas(len(msg))\n",
        "  print(msg)\n",
        "  linhas(len(msg))\n",
        "\n",
        "def menu():\n",
        "  exibirMensagem('Padaria dos Sonhos')\n",
        "  return int(input(' 1 - LOGAR \\n 2 - CADASTRAR \\n 3 - LISTAR \\n 4 - SAIR \\n R: '))\n",
        "\n",
        "def listarUsuario():\n",
        "  exibirMensagem('Lista de Usuarios')\n",
        "  for i in range(len(usuarios)):\n",
        "    print(f'Usuario {usuarios[i]} - Senha: {senhas[i]}')\n",
        "\n",
        "def receberDadosDoUsuario(msg):\n",
        "  return input(msg)\n",
        "\n",
        "def verificaUsuario(usuario):\n",
        "  if(usuario in usuarios):\n",
        "    return True\n",
        "  else: \n",
        "    return False\n",
        "\n",
        "def verificaSenha(usuario, senha):\n",
        "  if(usuario in usuarios):\n",
        "    indice = usuarios.index(usuario)\n",
        "    if(senha == senhas[indice]):\n",
        "      return True\n",
        "    else:\n",
        "      return False\n",
        "  else:\n",
        "    return False\n",
        "\n",
        "def logar():\n",
        "  usuario = receberDadosDoUsuario('Digite seu nome de Usuario R: ')\n",
        "  if(not verificaUsuario(usuario)):\n",
        "    exibirMensagem('ERRO: Usuario não encontrado!')\n",
        "    return False\n",
        "  else:\n",
        "    senha = receberDadosDoUsuario('Digite a sua senha R: ')\n",
        "    if(not verificaSenha(usuario, senha)):\n",
        "      exibirMensagem('ERRO: Senha incorreta!')\n",
        "      return False\n",
        "    else:\n",
        "      return True\n",
        "\n",
        "def cadastrar():\n",
        "  while(True):\n",
        "    usuario = receberDadosDoUsuario('Digite o nome de Usuario R: ')\n",
        "    if(verificaUsuario(usuario)):\n",
        "      exibirMensagem('Erro, usuario já é cadastrado')\n",
        "    else: \n",
        "      senha = receberDadosDoUsuario('Digite aqui a sua senha R: ')\n",
        "      if(len(senha) < 6 or not senha.isalnum()):\n",
        "        exibirMensagem('ERRO, senha deve ter mais de 6 caracteres e ser numerica')\n",
        "      else: \n",
        "        confirmaSenha = receberDadosDoUsuario('Confirme a senha R: ')\n",
        "        if(senha != confirmaSenha):\n",
        "          exibirMensagem('As senhas devem ser identicas')\n",
        "        else:\n",
        "          usuarios.append(usuario)\n",
        "          senhas.append(senha)\n",
        "          exibirMensagem('Usuario cadastrado com Sucesso!')\n",
        "          break\n",
        "\n",
        "escolhaDoMenu = 0\n",
        "usuarios = ['Akio']\n",
        "senhas = ['2580']\n",
        "while(True):\n",
        "  escolhaDoMenu = menu()\n",
        "  if(escolhaDoMenu == 1):\n",
        "    if(logar()):\n",
        "      exibirMensagem('Login efetuado com Sucesso')\n",
        "      break\n",
        "  elif(escolhaDoMenu == 2):\n",
        "    cadastrar()\n",
        "  elif(escolhaDoMenu == 3):\n",
        "    listarUsuario()\n",
        "  else:\n",
        "    print('Sair')\n",
        "    break"
      ],
      "metadata": {
        "colab": {
          "base_uri": "https://localhost:8080/"
        },
        "id": "W5gl8krg23IV",
        "outputId": "8088005e-32a9-418f-fc5e-29cf702fbe4e"
      },
      "execution_count": 29,
      "outputs": [
        {
          "output_type": "stream",
          "name": "stdout",
          "text": [
            "======================================\n",
            "Padaria dos Sonhos\n",
            "======================================\n",
            " 1 - LOGAR \n",
            " 2 - CADASTRAR \n",
            " 3 - LISTAR \n",
            " 4 - SAIR \n",
            " R: 1\n",
            "Digite seu nome de Usuario R: Akio\n",
            "Digite a sua senha R: 2580\n",
            "======================================================\n",
            "Login efetuado com Sucesso\n",
            "======================================================\n"
          ]
        }
      ]
    },
    {
      "cell_type": "code",
      "source": [
        ""
      ],
      "metadata": {
        "id": "C9kk0GUY5VPf"
      },
      "execution_count": null,
      "outputs": []
    }
  ]
}
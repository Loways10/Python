{
  "nbformat": 4,
  "nbformat_minor": 0,
  "metadata": {
    "colab": {
      "name": "Aula06.ipynb",
      "provenance": []
    },
    "kernelspec": {
      "name": "python3",
      "display_name": "Python 3"
    },
    "language_info": {
      "name": "python"
    }
  },
  "cells": [
    {
      "cell_type": "markdown",
      "source": [
        "#Python\n"
      ],
      "metadata": {
        "id": "4f6AqS9Je2PJ"
      }
    },
    {
      "cell_type": "markdown",
      "source": [
        "##Funções"
      ],
      "metadata": {
        "id": "crGZFX2ae9vA"
      }
    },
    {
      "cell_type": "code",
      "source": [
        "# DECLARAÇÃO\n",
        "\n",
        "def nomeDaFunção():\n",
        "  #Bloco de Execução\n",
        "  print('-----' * 5)\n",
        "  print('Função Declarada')\n",
        "  print('-----' * 5)\n",
        "  \n",
        "nomeDaFunção() #Chama a função"
      ],
      "metadata": {
        "colab": {
          "base_uri": "https://localhost:8080/"
        },
        "id": "EnAItnSMe7mJ",
        "outputId": "a3097cec-769b-4167-e8bc-25bc2993e401"
      },
      "execution_count": null,
      "outputs": [
        {
          "output_type": "stream",
          "name": "stdout",
          "text": [
            "-------------------------\n",
            "Função Declarada\n",
            "-------------------------\n"
          ]
        }
      ]
    },
    {
      "cell_type": "code",
      "source": [
        "#Função com Parametro\n",
        "\n",
        "def mostraTexto(txt): # (, val, test, r, z, y, variavel)\n",
        "  print(txt)\n",
        "\n",
        "mostraTexto('Exibir um valor')\n",
        "mostraTexto('Akio')\n",
        "mostraTexto('Kenji')\n",
        "mostraTexto('Acabou por aqui')\n",
        "\n",
        "def mostraIdadeNome(id, nome):\n",
        "  print('{} tem {} anos' .format(nome, id))\n",
        "\n",
        "mostraIdadeNome(18, 'Davi')\n"
      ],
      "metadata": {
        "colab": {
          "base_uri": "https://localhost:8080/"
        },
        "id": "DEoo4PzMg7-c",
        "outputId": "950661c9-2e0f-4603-845e-04eece2a4aa9"
      },
      "execution_count": null,
      "outputs": [
        {
          "output_type": "stream",
          "name": "stdout",
          "text": [
            "Exibir um valor\n",
            "Akio\n",
            "Kenji\n",
            "Acabou por aqui\n",
            "Davi tem 18 anos\n"
          ]
        }
      ]
    },
    {
      "cell_type": "code",
      "source": [
        "#Função com retorno\n",
        "\n",
        "from random import randint\n",
        "\n",
        "def retornaNumeroAleatorio():\n",
        "  return randint(0, 100)\n",
        "\n",
        "segredo = retornaNumeroAleatorio()\n",
        "print(segredo)"
      ],
      "metadata": {
        "colab": {
          "base_uri": "https://localhost:8080/"
        },
        "id": "zolmRqg2iafp",
        "outputId": "d8af161c-0cc5-475a-e0a0-fda9f5b1cc91"
      },
      "execution_count": null,
      "outputs": [
        {
          "output_type": "stream",
          "name": "stdout",
          "text": [
            "11\n"
          ]
        }
      ]
    },
    {
      "cell_type": "code",
      "source": [
        "#Função\n",
        "from random import randint\n",
        "\n",
        "def retornaNumeroAleatorioEntre(ini, fim):\n",
        "  return randint(ini, fim)\n",
        "\n",
        "segredo = retornaNumeroAleatorioEntre(2000, 5000)\n",
        "print('Teste 1: ', segredo)\n",
        "segredo = retornaNumeroAleatorioEntre(2, 5)\n",
        "print('Teste 2: ', segredo)\n",
        "segredo = retornaNumeroAleatorioEntre(20, 50)\n",
        "print('Teste 3: ', segredo) "
      ],
      "metadata": {
        "colab": {
          "base_uri": "https://localhost:8080/"
        },
        "id": "OIJu9c9nj2Ky",
        "outputId": "ad85a1c1-94f3-4926-9a98-4f7d35a1ffda"
      },
      "execution_count": null,
      "outputs": [
        {
          "output_type": "stream",
          "name": "stdout",
          "text": [
            "Teste 1:  4463\n",
            "Teste 2:  5\n",
            "Teste 3:  46\n"
          ]
        }
      ]
    },
    {
      "cell_type": "code",
      "source": [
        "'''\n",
        "Ex 1. Desenvolva um menu de Escolha de uma calculadora usando funções\n",
        "ex:\n",
        "  Menu Calculadora\n",
        "  1. +\n",
        "  2. -\n",
        "  3. *\n",
        "  4. /\n",
        "  r:\n",
        "'''\n",
        "def menu():\n",
        "  input('Menu Calculadora \\n 1. + \\n 2. - \\n 3. * \\n 4./ \\n R:')\n",
        "\n",
        "menu()\n"
      ],
      "metadata": {
        "colab": {
          "base_uri": "https://localhost:8080/"
        },
        "id": "2XBV0IdWqwR2",
        "outputId": "86ca7079-2d0d-45a7-e728-362a758a57a0"
      },
      "execution_count": null,
      "outputs": [
        {
          "name": "stdout",
          "output_type": "stream",
          "text": [
            "Menu Calculadora \n",
            " 1. + \n",
            " 2. - \n",
            " 3. * \n",
            " 4./ \n",
            " R:5\n"
          ]
        }
      ]
    },
    {
      "cell_type": "code",
      "source": [
        "''' \n",
        "ex 2. Desenvolva um MENU de escolha de uma calculadora usando funções e exiba a escolha do usuário\n",
        "\n",
        "exe\n",
        "  Menu Calculadora\n",
        "  1. +\n",
        "  2. -\n",
        "  3. *\n",
        "  4. /\n",
        "  r:\n",
        "'''\n",
        "def linhas():\n",
        "  print('--' * 10)\n",
        "\n",
        "def menu():\n",
        "  linhas()\n",
        "  print('Menu Calculadora')\n",
        "  linhas()\n",
        "  escolha = input(' 1. + \\n 2. - \\n 3. * \\n 4./ \\n R: ')\n",
        "  linhas()\n",
        "  print('Você Escolheu: ', escolha)\n",
        "  linhas()\n",
        "menu()"
      ],
      "metadata": {
        "colab": {
          "base_uri": "https://localhost:8080/"
        },
        "id": "i1aH2Qw1q_Y1",
        "outputId": "53ce2299-7c10-4b32-fa37-16eb989cf289"
      },
      "execution_count": null,
      "outputs": [
        {
          "output_type": "stream",
          "name": "stdout",
          "text": [
            "--------------------\n",
            "Menu Calculadora\n",
            "--------------------\n",
            " 1. + \n",
            " 2. - \n",
            " 3. * \n",
            " 4./ \n",
            " R: 10\n",
            "--------------------\n",
            "Você Escolheu:  10\n",
            "--------------------\n"
          ]
        }
      ]
    },
    {
      "cell_type": "code",
      "source": [
        "# Faça um calculadora com (+ - * /) e repita enquanto o usuário quiser\n",
        "\n",
        "conta = 1\n",
        "\n",
        "def linhas():\n",
        "  print('--' * 10)\n",
        "\n",
        "def menu():\n",
        "  linhas()\n",
        "  print('Menu Calculadora')\n",
        "  linhas()\n",
        "  escolha = int(input(' 1. + \\n 2. - \\n 3. * \\n 4./ \\n R: '))\n",
        "  return escolha\n",
        "\n",
        "'''\n",
        "def inputUsuario():\n",
        "  return float(input(\"Digite um valor: \"))\n",
        "'''\n",
        "\n",
        "def inputUsuario():\n",
        "  continuar = False\n",
        "  while(not continuar):\n",
        "    val = input('Digite um valor: ')\n",
        "    if(val.isnumeric()):\n",
        "      continuar = True\n",
        "  return float(val)\n",
        "\n",
        "def soma():\n",
        "  num1 = inputUsuario()\n",
        "  num2 = inputUsuario()\n",
        "  print(\"SOMA\", num1 + num2)\n",
        "def sub():\n",
        "  num1 = inputUsuario()\n",
        "  num2 = inputUsuario()\n",
        "  print(\"SUB\", num1 - num2)\n",
        "def mult():\n",
        "  num1 = inputUsuario()\n",
        "  num2 = inputUsuario()\n",
        "  print(\"MULT\", num1 * num2)\n",
        "def div():\n",
        "  num1 = inputUsuario()\n",
        "  num2 = inputUsuario()\n",
        "  print(\"DIV\", num1 / num2)\n",
        "\n",
        "\n",
        "while(conta < 5):\n",
        "  conta = menu()\n",
        "  if(conta == 1):\n",
        "    soma()\n",
        "  elif(conta == 2):\n",
        "    sub()\n",
        "  elif(conta == 3):\n",
        "    mult()\n",
        "  elif(conta == 4):\n",
        "    div()\n",
        "  else:\n",
        "    linhas()\n",
        "    print('Tchau')\n",
        "    linhas()"
      ],
      "metadata": {
        "colab": {
          "base_uri": "https://localhost:8080/"
        },
        "id": "KRmFwhjgrGoO",
        "outputId": "bbdd4b2d-8bbc-4636-85df-4a55c966387c"
      },
      "execution_count": null,
      "outputs": [
        {
          "output_type": "stream",
          "name": "stdout",
          "text": [
            "--------------------\n",
            "Menu Calculadora\n",
            "--------------------\n",
            " 1. + \n",
            " 2. - \n",
            " 3. * \n",
            " 4./ \n",
            " R: 2\n",
            "Digite um valor: asd\n",
            "Digite um valor: \n",
            "Digite um valor: asd\n",
            "Digite um valor: 50\n",
            "Digite um valor: asd\n",
            "Digite um valor: 30\n",
            "SUB 20.0\n",
            "--------------------\n",
            "Menu Calculadora\n",
            "--------------------\n",
            " 1. + \n",
            " 2. - \n",
            " 3. * \n",
            " 4./ \n",
            " R: 5\n",
            "--------------------\n",
            "Tchau\n",
            "--------------------\n"
          ]
        }
      ]
    },
    {
      "cell_type": "code",
      "source": [
        "def linha(tamanho):\n",
        "  print('-' * (tamanho + 2))\n",
        "\n",
        "titulo = 'Nome dos Alunos do Curso dev full stack'\n",
        "\n",
        "linha(len(titulo))\n",
        "print(titulo)\n",
        "linha(len(titulo))\n"
      ],
      "metadata": {
        "id": "3kdMhpWvr3S-",
        "colab": {
          "base_uri": "https://localhost:8080/"
        },
        "outputId": "f2252ad1-6555-4d83-8b25-dea6030fe6f6"
      },
      "execution_count": 1,
      "outputs": [
        {
          "output_type": "stream",
          "name": "stdout",
          "text": [
            "-----------------------------------------\n",
            "Nome dos Alunos do Curso dev full stack\n",
            "-----------------------------------------\n"
          ]
        }
      ]
    },
    {
      "cell_type": "code",
      "source": [
        "def linha(tamanho):\n",
        "  print('-' * (tamanho + 2))\n",
        "\n",
        "def geraLinhas(qnt):\n",
        "  for i in range(0, qnt):\n",
        "    linha(20)\n",
        "\n",
        "geraLinhas(10)"
      ],
      "metadata": {
        "colab": {
          "base_uri": "https://localhost:8080/"
        },
        "id": "B7vX2P-noItV",
        "outputId": "701bfd1e-df6f-461a-f4f5-9927136ba38c"
      },
      "execution_count": 4,
      "outputs": [
        {
          "output_type": "stream",
          "name": "stdout",
          "text": [
            "----------------------\n",
            "----------------------\n",
            "----------------------\n",
            "----------------------\n",
            "----------------------\n",
            "----------------------\n",
            "----------------------\n",
            "----------------------\n",
            "----------------------\n",
            "----------------------\n"
          ]
        }
      ]
    },
    {
      "cell_type": "code",
      "source": [
        ""
      ],
      "metadata": {
        "id": "S1kqsx0ToreV"
      },
      "execution_count": null,
      "outputs": []
    }
  ]
}
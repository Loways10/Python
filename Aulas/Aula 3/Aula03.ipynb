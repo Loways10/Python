{
  "nbformat": 4,
  "nbformat_minor": 0,
  "metadata": {
    "colab": {
      "name": "Aula04.ipynb",
      "provenance": [],
      "collapsed_sections": []
    },
    "kernelspec": {
      "name": "python3",
      "display_name": "Python 3"
    },
    "language_info": {
      "name": "python"
    }
  },
  "cells": [
    {
      "cell_type": "markdown",
      "source": [
        "#Laço de repetição -> Estrututa de Repetição -> loop\n",
        "\n",
        "#FOR\n"
      ],
      "metadata": {
        "id": "UBwFu_CZdLyc"
      }
    },
    {
      "cell_type": "code",
      "source": [
        "#for variavel in range(1, 10): 'Conta até 10'\n",
        "for i in range(0, 10): # Começa no 0 e vai até o 9, também pode ser assim 'for i in range(0, 10, 5): iria contar de 5 em 5\n",
        "  #faça enquanto i for menor que 10\n",
        "  print(i)"
      ],
      "metadata": {
        "colab": {
          "base_uri": "https://localhost:8080/"
        },
        "id": "888TkXghdSfu",
        "outputId": "538b173d-2a3f-4a26-8218-c2c569ad6597"
      },
      "execution_count": null,
      "outputs": [
        {
          "output_type": "stream",
          "name": "stdout",
          "text": [
            "0\n",
            "1\n",
            "2\n",
            "3\n",
            "4\n",
            "5\n",
            "6\n",
            "7\n",
            "8\n",
            "9\n"
          ]
        }
      ]
    },
    {
      "cell_type": "code",
      "source": [
        "for c in range(10, 0, -1):\n",
        "  print(c)"
      ],
      "metadata": {
        "colab": {
          "base_uri": "https://localhost:8080/"
        },
        "id": "bUhqiRCSefEk",
        "outputId": "4bc3dbbd-df44-470d-d988-fdb80c3ee66a"
      },
      "execution_count": null,
      "outputs": [
        {
          "output_type": "stream",
          "name": "stdout",
          "text": [
            "10\n",
            "9\n",
            "8\n",
            "7\n",
            "6\n",
            "5\n",
            "4\n",
            "3\n",
            "2\n",
            "1\n"
          ]
        }
      ]
    },
    {
      "cell_type": "code",
      "source": [
        "for contador in range(0, 10):\n",
        "  #bloco de execução\n",
        "  print(\"Bom dia \", contador)\n",
        "#fora do bloco de execução do FOR\n",
        "print(\"Acabou o bom dia, F\")"
      ],
      "metadata": {
        "colab": {
          "base_uri": "https://localhost:8080/"
        },
        "id": "7P8HMtcwgPC0",
        "outputId": "26fb3e91-232a-4a4d-a04b-16dc7ff67835"
      },
      "execution_count": null,
      "outputs": [
        {
          "output_type": "stream",
          "name": "stdout",
          "text": [
            "Bom dia  0\n",
            "Bom dia  1\n",
            "Bom dia  2\n",
            "Bom dia  3\n",
            "Bom dia  4\n",
            "Bom dia  5\n",
            "Bom dia  6\n",
            "Bom dia  7\n",
            "Bom dia  8\n",
            "Bom dia  9\n",
            "Acabou o bom dia, F\n"
          ]
        }
      ]
    },
    {
      "cell_type": "code",
      "source": [
        "#Leia um numero e exiba os numeros em ordem crescente ate chegar ao numero digitado\n",
        "\n",
        "num = int(input('Digite um numero: '))\n",
        "\n",
        "for i in range(0, num):\n",
        "  print(i + 1)\n",
        "\n",
        "print('---------------------------------------')\n",
        "\n",
        "for i in range(1, num + 1):\n",
        "  print(i)"
      ],
      "metadata": {
        "colab": {
          "base_uri": "https://localhost:8080/"
        },
        "id": "YXVUrVN8gfop",
        "outputId": "e8db0ac8-b698-4087-ded2-531992d01728"
      },
      "execution_count": null,
      "outputs": [
        {
          "output_type": "stream",
          "name": "stdout",
          "text": [
            "Digite um numero: 5\n",
            "1\n",
            "2\n",
            "3\n",
            "4\n",
            "5\n",
            "---------------------------------------\n",
            "1\n",
            "2\n",
            "3\n",
            "4\n",
            "5\n"
          ]
        }
      ]
    },
    {
      "cell_type": "code",
      "source": [
        "#Leia o valor inicial e o valor final e exiba um contador entre o numero inicial e o final\n",
        "inicial = int(input('Digite o valor inicial: '))\n",
        "final = int(input('Digite o valor final: '))\n",
        "\n",
        "if(final > inicial):\n",
        "  for i in range(inicial, final + 1):\n",
        "    print(i)\n",
        "else:\n",
        "  for i in range(inicial, final, -1):\n",
        "    print(i)\n",
        "    print('O valor inicial não pode ser maior que o valor final')"
      ],
      "metadata": {
        "colab": {
          "base_uri": "https://localhost:8080/"
        },
        "id": "6RUcN8p6hrCA",
        "outputId": "bc6825d1-7452-491f-816c-3896a9bc5941"
      },
      "execution_count": null,
      "outputs": [
        {
          "output_type": "stream",
          "name": "stdout",
          "text": [
            "Digite o valor inicial: 10\n",
            "Digite o valor final: 5\n",
            "10\n",
            "O valor inicial não pode ser maior que o valor final\n",
            "9\n",
            "O valor inicial não pode ser maior que o valor final\n",
            "8\n",
            "O valor inicial não pode ser maior que o valor final\n",
            "7\n",
            "O valor inicial não pode ser maior que o valor final\n",
            "6\n",
            "O valor inicial não pode ser maior que o valor final\n"
          ]
        }
      ]
    },
    {
      "cell_type": "code",
      "source": [
        "# Receba um numero e faça a tabuada com os 20 primeiros numeros (indices)\n",
        "num = int(input('Digite um numero: '))\n",
        "\n",
        "for i in range(0, 21):\n",
        "\n",
        "  print(\"{} X {} = {}\" .format(num, i, i * num))"
      ],
      "metadata": {
        "colab": {
          "base_uri": "https://localhost:8080/"
        },
        "id": "EBLcKlEbjHKW",
        "outputId": "46ba377a-7eb9-4913-dde8-8d2bd09c29ed"
      },
      "execution_count": null,
      "outputs": [
        {
          "output_type": "stream",
          "name": "stdout",
          "text": [
            "Digite um numero: 2\n",
            "2 X 0 = 0\n",
            "2 X 1 = 2\n",
            "2 X 2 = 4\n",
            "2 X 3 = 6\n",
            "2 X 4 = 8\n",
            "2 X 5 = 10\n",
            "2 X 6 = 12\n",
            "2 X 7 = 14\n",
            "2 X 8 = 16\n",
            "2 X 9 = 18\n",
            "2 X 10 = 20\n",
            "2 X 11 = 22\n",
            "2 X 12 = 24\n",
            "2 X 13 = 26\n",
            "2 X 14 = 28\n",
            "2 X 15 = 30\n",
            "2 X 16 = 32\n",
            "2 X 17 = 34\n",
            "2 X 18 = 36\n",
            "2 X 19 = 38\n",
            "2 X 20 = 40\n"
          ]
        }
      ]
    },
    {
      "cell_type": "code",
      "source": [
        "# Leia 4 numeros e mostra o somatorio (usando for)\n",
        "'''\n",
        "num1 = int(input('Primeiro numero: '))\n",
        "num2 = int(input('Segundo numero: '))\n",
        "num3 = int(input('Terceiro numero: '))\n",
        "num4 = int(input('Quarto numero: '))\n",
        "\n",
        "soma = num1 + num2 + num3 + num4\n",
        "print(soma)\n",
        "'''\n",
        "\n",
        "soma = 0\n",
        "\n",
        "for laco in range(4):\n",
        "  n = int(input('Digite um numero: '))\n",
        "  soma = soma + n\n",
        "print(soma)"
      ],
      "metadata": {
        "colab": {
          "base_uri": "https://localhost:8080/"
        },
        "id": "UQbNNfcrl4Th",
        "outputId": "c1b7e859-915d-4a4b-b4df-1fe2d5395ef2"
      },
      "execution_count": null,
      "outputs": [
        {
          "output_type": "stream",
          "name": "stdout",
          "text": [
            "Digite um numero: 1\n",
            "Digite um numero: 2\n",
            "Digite um numero: 3\n",
            "Digite um numero: 4\n",
            "10\n"
          ]
        }
      ]
    },
    {
      "cell_type": "code",
      "source": [
        "# Mostrar todos os numeros pares entre 1 e 250\n",
        "\n",
        "for i in range(0, 251):\n",
        "  if(i % 2 == 0):\n",
        "    print(i)"
      ],
      "metadata": {
        "colab": {
          "base_uri": "https://localhost:8080/"
        },
        "id": "fiGfnF1toOPm",
        "outputId": "e770d214-e448-4447-8b29-5c5a78a0583d"
      },
      "execution_count": null,
      "outputs": [
        {
          "output_type": "stream",
          "name": "stdout",
          "text": [
            "0\n",
            "2\n",
            "4\n",
            "6\n",
            "8\n",
            "10\n",
            "12\n",
            "14\n",
            "16\n",
            "18\n",
            "20\n",
            "22\n",
            "24\n",
            "26\n",
            "28\n",
            "30\n",
            "32\n",
            "34\n",
            "36\n",
            "38\n",
            "40\n",
            "42\n",
            "44\n",
            "46\n",
            "48\n",
            "50\n",
            "52\n",
            "54\n",
            "56\n",
            "58\n",
            "60\n",
            "62\n",
            "64\n",
            "66\n",
            "68\n",
            "70\n",
            "72\n",
            "74\n",
            "76\n",
            "78\n",
            "80\n",
            "82\n",
            "84\n",
            "86\n",
            "88\n",
            "90\n",
            "92\n",
            "94\n",
            "96\n",
            "98\n",
            "100\n",
            "102\n",
            "104\n",
            "106\n",
            "108\n",
            "110\n",
            "112\n",
            "114\n",
            "116\n",
            "118\n",
            "120\n",
            "122\n",
            "124\n",
            "126\n",
            "128\n",
            "130\n",
            "132\n",
            "134\n",
            "136\n",
            "138\n",
            "140\n",
            "142\n",
            "144\n",
            "146\n",
            "148\n",
            "150\n",
            "152\n",
            "154\n",
            "156\n",
            "158\n",
            "160\n",
            "162\n",
            "164\n",
            "166\n",
            "168\n",
            "170\n",
            "172\n",
            "174\n",
            "176\n",
            "178\n",
            "180\n",
            "182\n",
            "184\n",
            "186\n",
            "188\n",
            "190\n",
            "192\n",
            "194\n",
            "196\n",
            "198\n",
            "200\n",
            "202\n",
            "204\n",
            "206\n",
            "208\n",
            "210\n",
            "212\n",
            "214\n",
            "216\n",
            "218\n",
            "220\n",
            "222\n",
            "224\n",
            "226\n",
            "228\n",
            "230\n",
            "232\n",
            "234\n",
            "236\n",
            "238\n",
            "240\n",
            "242\n",
            "244\n",
            "246\n",
            "248\n",
            "250\n"
          ]
        }
      ]
    },
    {
      "cell_type": "code",
      "source": [
        "# Leia um valor e exiba a quantidade de numeros impares entre 1 e o numero lido\n",
        "'''\n",
        "num = int(input('Digite um valor: '))\n",
        "if(num > 1):\n",
        "  for i in range(1, num , 2):\n",
        "    print(i)\n",
        "else:\n",
        "  print('Digite um valor maior que 1')\n",
        "'''\n",
        "\n",
        "num = int(input('Digite um valor: '))\n",
        "if(num > 1):\n",
        "  for i in range(1, num):\n",
        "    if(i % 2 != 0): #if(i % 2 == 1):\n",
        "      print(i)\n",
        "else:\n",
        "  print('Digite um valor maior que 1')"
      ],
      "metadata": {
        "colab": {
          "base_uri": "https://localhost:8080/"
        },
        "id": "rByidrCArbgV",
        "outputId": "41693297-8a73-4c6c-ea49-2ea7227b8020"
      },
      "execution_count": null,
      "outputs": [
        {
          "output_type": "stream",
          "name": "stdout",
          "text": [
            "Digite um valor: 15\n",
            "1\n",
            "3\n",
            "5\n",
            "7\n",
            "9\n",
            "11\n",
            "13\n"
          ]
        }
      ]
    },
    {
      "cell_type": "code",
      "source": [
        "# leia um numero e faça a soma dos numeros impares que sao multiplos de 3 entre 1 e o numero lido\n",
        "\n",
        "num = int(input('Digite um valor '))\n",
        "soma = 0\n",
        "  \n",
        "for i in range(1, num + i):\n",
        " if(i % 2 != 0 and i % 3 == 0):\n",
        "   soma = i \n",
        "\n",
        "print(soma)\n",
        "\n"
      ],
      "metadata": {
        "colab": {
          "base_uri": "https://localhost:8080/"
        },
        "id": "DQkqRk_ws21C",
        "outputId": "f79ffc6c-b03b-41a4-c429-412ace9c3359"
      },
      "execution_count": null,
      "outputs": [
        {
          "output_type": "stream",
          "name": "stdout",
          "text": [
            "Digite um valor 10\n",
            "21\n"
          ]
        }
      ]
    },
    {
      "cell_type": "code",
      "source": [
        "# Leia 5 numeros e exiba a soma deles, o menor numeros e o maior numero\n",
        "\n",
        "soma = 0\n",
        "maior = 0\n",
        "menor = 1000000\n",
        "\n",
        "\n",
        "for num in range(5):\n",
        "  n = int(input('Digite um numero: '))\n",
        "  soma = soma + n\n",
        "  if(n > maior):\n",
        "    maior = n \n",
        "  if(n < menor):\n",
        "    menor = n\n",
        "\n",
        "\n",
        "print('O somatorio dos numeros foi {} \\nO maior numero foi {} \\nO menor numero foi {}' .format(soma, maior, menor))"
      ],
      "metadata": {
        "colab": {
          "base_uri": "https://localhost:8080/"
        },
        "id": "hBeuZKydwEqM",
        "outputId": "8d4f92f1-f6e9-4427-dbc2-57d29492fbfe"
      },
      "execution_count": null,
      "outputs": [
        {
          "output_type": "stream",
          "name": "stdout",
          "text": [
            "Digite um numero: 1\n",
            "Digite um numero: 2\n",
            "Digite um numero: 3\n",
            "Digite um numero: 4\n",
            "Digite um numero: 5\n",
            "O somatorio dos numeros foi 15 \n",
            "O maior numero foi 5 \n",
            "O menor numero foi 1\n"
          ]
        }
      ]
    },
    {
      "cell_type": "markdown",
      "source": [
        "# Leia o nome, idade e sexo de 5 pessoas. Exiba ao final\n",
        "\n",
        "A media das idades\n",
        "Qual o nome dos mais novo\n",
        "Quantas mulheres tem mais de 20 anos\n"
      ],
      "metadata": {
        "id": "6_37Vc9N0sjZ"
      }
    },
    {
      "cell_type": "code",
      "source": [
        "acima = 0\n",
        "menor = 100000000\n",
        "media = 0\n",
        "soma = 0\n",
        "\n",
        "media = float(media)\n",
        "soma = int(soma)\n",
        "\n",
        "\n",
        "for i in range(5):\n",
        "  nome = input('Digite aqui seu nome: ')\n",
        "  idade = int(input('Digite aqui sua idade: '))\n",
        "  sexo = input('Digite aqui seu sexo(M para masculino e F para feminino): ').lower()\n",
        "  print('Os valores digitados foram: ', nome, idade, sexo)\n",
        "  soma = soma + idade\n",
        "  media = soma / 5\n",
        "  if(idade < menor):\n",
        "    menor = idade\n",
        "    \n",
        "  if(sexo == 'f' and idade >= 20):\n",
        "    acima = acima + 1\n",
        "\n",
        "print('A media das idades é de: {} \\nA quantidade de mulheres registradas é: {} \\nA pessoa com a menor idade é: {}' .format(media, acima, menor))"
      ],
      "metadata": {
        "id": "gFtf6-hexLMv",
        "colab": {
          "base_uri": "https://localhost:8080/"
        },
        "outputId": "cee7387e-4268-46bb-854e-e6086dfc4c83"
      },
      "execution_count": 10,
      "outputs": [
        {
          "output_type": "stream",
          "name": "stdout",
          "text": [
            "Digite aqui seu nome: Akio\n",
            "Digite aqui sua idade: 31\n",
            "Digite aqui seu sexo(M para masculino e F para feminino): m\n",
            "Os valores digitados foram:  Akio 31 m\n",
            "Digite aqui seu nome: Lorhana\n",
            "Digite aqui sua idade: 32\n",
            "Digite aqui seu sexo(M para masculino e F para feminino): F\n",
            "Os valores digitados foram:  Lorhana 32 f\n",
            "Digite aqui seu nome: SAyu\n",
            "Digite aqui sua idade: 32\n",
            "Digite aqui seu sexo(M para masculino e F para feminino): f\n",
            "Os valores digitados foram:  SAyu 32 f\n",
            "Digite aqui seu nome: Kenji\n",
            "Digite aqui sua idade: 29\n",
            "Digite aqui seu sexo(M para masculino e F para feminino): m\n",
            "Os valores digitados foram:  Kenji 29 m\n",
            "Digite aqui seu nome: Davi\n",
            "Digite aqui sua idade: 17\n",
            "Digite aqui seu sexo(M para masculino e F para feminino): m\n",
            "Os valores digitados foram:  Davi 17 m\n",
            "A media das idades é de: 28.2 \n",
            "A quantidade de mulheres registradas é: 2 \n",
            "A pessoa com a menor idade é: 17\n"
          ]
        }
      ]
    },
    {
      "cell_type": "code",
      "source": [
        ""
      ],
      "metadata": {
        "id": "6ywUbhrRo1aa"
      },
      "execution_count": null,
      "outputs": []
    }
  ]
}
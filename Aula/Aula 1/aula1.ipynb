{
  "nbformat": 4,
  "nbformat_minor": 0,
  "metadata": {
    "colab": {
      "name": "aula1.ipynb",
      "provenance": [],
      "collapsed_sections": []
    },
    "kernelspec": {
      "name": "python3",
      "display_name": "Python 3"
    },
    "language_info": {
      "name": "python"
    }
  },
  "cells": [
    {
      "cell_type": "code",
      "execution_count": null,
      "metadata": {
        "colab": {
          "base_uri": "https://localhost:8080/"
        },
        "id": "Y3RZrseKiWen",
        "outputId": "8f250aee-edcc-48a5-8710-aff63e0b82c6"
      },
      "outputs": [
        {
          "output_type": "stream",
          "name": "stdout",
          "text": [
            "Hello, World\n"
          ]
        }
      ],
      "source": [
        "print(\"Hello, World\")"
      ]
    },
    {
      "cell_type": "code",
      "source": [
        "print('Aprendendo Python!')"
      ],
      "metadata": {
        "colab": {
          "base_uri": "https://localhost:8080/"
        },
        "id": "7QwSTd7Ijc12",
        "outputId": "2e89187d-f926-4575-ada5-3b952ab810b5"
      },
      "execution_count": null,
      "outputs": [
        {
          "output_type": "stream",
          "name": "stdout",
          "text": [
            "Aprendendo Python!\n"
          ]
        }
      ]
    },
    {
      "cell_type": "code",
      "source": [
        "# String, Int, Float, Boolean\n",
        "notal1 = 10\n",
        "_nota1 = 10\n",
        "A = 1\n",
        "a = 2\n",
        "ação = '10'\n",
        "jogar = True\n",
        "dançar = False\n",
        "\n",
        "print(dançar)"
      ],
      "metadata": {
        "colab": {
          "base_uri": "https://localhost:8080/"
        },
        "id": "SgyxCr96j6vb",
        "outputId": "b75fff63-41cb-4609-ac0a-76d51bb46ac3"
      },
      "execution_count": null,
      "outputs": [
        {
          "output_type": "stream",
          "name": "stdout",
          "text": [
            "False\n"
          ]
        }
      ]
    },
    {
      "cell_type": "code",
      "source": [
        "a = 1\n",
        "b = 2.5\n",
        "\n",
        "equa = (a + b) * 3 / (a + 2)\n",
        "print(equa) "
      ],
      "metadata": {
        "colab": {
          "base_uri": "https://localhost:8080/"
        },
        "id": "8_mYu4F3kiHf",
        "outputId": "e13793df-bbe4-4191-8a34-468ad1311084"
      },
      "execution_count": null,
      "outputs": [
        {
          "output_type": "stream",
          "name": "stdout",
          "text": [
            "3.5\n"
          ]
        }
      ]
    },
    {
      "cell_type": "code",
      "source": [
        "type(equa)"
      ],
      "metadata": {
        "colab": {
          "base_uri": "https://localhost:8080/"
        },
        "id": "nHWFvbbylLTW",
        "outputId": "e1d9c498-96e5-4ccb-bdcc-56b7a52d20bd"
      },
      "execution_count": null,
      "outputs": [
        {
          "output_type": "execute_result",
          "data": {
            "text/plain": [
              "float"
            ]
          },
          "metadata": {},
          "execution_count": 7
        }
      ]
    },
    {
      "cell_type": "code",
      "source": [
        "type(a)"
      ],
      "metadata": {
        "colab": {
          "base_uri": "https://localhost:8080/"
        },
        "id": "YSoh1cB0lqQA",
        "outputId": "c2ac7c99-dc98-492e-a22f-c7dafc73d824"
      },
      "execution_count": null,
      "outputs": [
        {
          "output_type": "execute_result",
          "data": {
            "text/plain": [
              "int"
            ]
          },
          "metadata": {},
          "execution_count": 8
        }
      ]
    },
    {
      "cell_type": "code",
      "source": [
        "type(dançar)"
      ],
      "metadata": {
        "colab": {
          "base_uri": "https://localhost:8080/"
        },
        "id": "4CIONTqelrxH",
        "outputId": "b22de5c1-5882-4091-c21c-e7df708abf8d"
      },
      "execution_count": null,
      "outputs": [
        {
          "output_type": "execute_result",
          "data": {
            "text/plain": [
              "bool"
            ]
          },
          "metadata": {},
          "execution_count": 9
        }
      ]
    },
    {
      "cell_type": "code",
      "source": [
        "type(ação)"
      ],
      "metadata": {
        "colab": {
          "base_uri": "https://localhost:8080/"
        },
        "id": "EzXC4UO_l6dK",
        "outputId": "9319a209-5956-4110-8ae5-7b5b5a4830f8"
      },
      "execution_count": null,
      "outputs": [
        {
          "output_type": "execute_result",
          "data": {
            "text/plain": [
              "str"
            ]
          },
          "metadata": {},
          "execution_count": 10
        }
      ]
    },
    {
      "cell_type": "code",
      "source": [
        "txt = input('Digite um número -> ')\n",
        "type(txt)"
      ],
      "metadata": {
        "colab": {
          "base_uri": "https://localhost:8080/"
        },
        "id": "jK5Yzhtzl8B1",
        "outputId": "a1ec216f-4448-4766-96db-a09faf9c2044"
      },
      "execution_count": null,
      "outputs": [
        {
          "name": "stdout",
          "output_type": "stream",
          "text": [
            "Digite um número -> 15\n"
          ]
        },
        {
          "output_type": "execute_result",
          "data": {
            "text/plain": [
              "str"
            ]
          },
          "metadata": {},
          "execution_count": 15
        }
      ]
    },
    {
      "cell_type": "code",
      "source": [
        "# Converter valores\n",
        "x = int(txt)\n",
        "print(type(x))\n",
        "x = float(txt)\n",
        "print(type(x))\n",
        "x = str(txt)\n",
        "print(type(x))\n"
      ],
      "metadata": {
        "colab": {
          "base_uri": "https://localhost:8080/"
        },
        "id": "1Bff7Q-TmAwy",
        "outputId": "7dcce791-ea23-462b-8e62-673808b4c438"
      },
      "execution_count": null,
      "outputs": [
        {
          "output_type": "stream",
          "name": "stdout",
          "text": [
            "<class 'int'>\n",
            "<class 'float'>\n",
            "<class 'str'>\n"
          ]
        }
      ]
    },
    {
      "cell_type": "code",
      "source": [
        "# Comentario\n",
        "'''\n",
        "\n",
        "Comentar em varias linhas\n",
        "\n",
        "\n",
        "'''"
      ],
      "metadata": {
        "id": "dl8wJWwnmefT"
      },
      "execution_count": null,
      "outputs": []
    },
    {
      "cell_type": "markdown",
      "source": [
        "# Matemática Simples"
      ],
      "metadata": {
        "id": "fqSR52YXn3Y-"
      }
    },
    {
      "cell_type": "code",
      "source": [
        "# Exibir a area do Quadrado\n",
        "'''\n",
        "  q = l x l \\\\ l²\n",
        "'''\n",
        "l = 12 # criando variavel\n",
        "quadrado = l * l # ou  l ** 2\n",
        "perimetroquadrado = l + l + l + l  # ou l *4\n",
        "print(quadrado)\n",
        "print(perimetroquadrado)\n"
      ],
      "metadata": {
        "colab": {
          "base_uri": "https://localhost:8080/"
        },
        "id": "ABtlL0s4n6en",
        "outputId": "f6f2090f-416b-4636-dc9f-f0f043745877"
      },
      "execution_count": null,
      "outputs": [
        {
          "output_type": "stream",
          "name": "stdout",
          "text": [
            "144\n",
            "48\n"
          ]
        }
      ]
    },
    {
      "cell_type": "code",
      "source": [
        "# O lado de um quadrado mede 8 cm. \n",
        "# Caso o comprimento desse valor seja aumentado em 50% do seu valor, em quantos por centos aumenta a área do novo quadrado em relação a área do quadrado inicial?\n",
        "'''\n",
        "  Formula\n",
        "  a = l²\n",
        "'''\n",
        "l = 8\n",
        "area = l ** 2 \n",
        "print( 'Primeira Area: ', area)\n",
        "\n",
        "##\n",
        "l = 8 +(l / 2) # ou l = x * 1.5\n",
        "areaNova = l ** 2\n",
        "print('Segunda Area: ', areaNova)\n",
        "\n",
        "## Diferença de tamanho entre o primeiro e o segundo\n",
        "diferença = (areaNova / area - 1) * 100\n",
        "print(\"Diferença é de \", diferença, \"%\")\n"
      ],
      "metadata": {
        "colab": {
          "base_uri": "https://localhost:8080/"
        },
        "id": "_dQT-BGlpCU7",
        "outputId": "7a943929-dc7a-4bcb-9fc4-a4d7c394bfc7"
      },
      "execution_count": null,
      "outputs": [
        {
          "output_type": "stream",
          "name": "stdout",
          "text": [
            "Primeira Area:  64\n",
            "Segunda Area:  144.0\n",
            "Diferença é de  125.0 %\n"
          ]
        }
      ]
    },
    {
      "cell_type": "code",
      "source": [
        "# Qual é a medida da diagonal de um quadrado cujo lado mede 8 cm?\n",
        "'''\n",
        "Formula\n",
        "d² = l² + l²\n",
        "d² = 2l² = 128\n",
        "d = V(2l²) = V128\n",
        "d = lV2 = ?\n",
        "'''\n",
        "\n",
        "l = 8\n",
        "diagonal = (2 * (l ** 2)) **(0.5) # 2l²\n",
        "print(diagonal) \n",
        "\n",
        "# ²V128 -> (1/2) 2/1 -> 1/2\n"
      ],
      "metadata": {
        "colab": {
          "base_uri": "https://localhost:8080/"
        },
        "id": "pd_XJuhXqsaJ",
        "outputId": "666deac4-3e57-4668-95ec-3b6d9338237a"
      },
      "execution_count": null,
      "outputs": [
        {
          "output_type": "stream",
          "name": "stdout",
          "text": [
            "11.313708498984761\n"
          ]
        }
      ]
    },
    {
      "cell_type": "code",
      "source": [
        "# Qual é o diametro de um círculo cujo o raio mede 10cm?\n",
        "'''\n",
        "formula\n",
        "d = 2r\n",
        "'''\n",
        "r = 10\n",
        "diametroCirculo = 2 * r\n",
        "print(diametroCirculo)"
      ],
      "metadata": {
        "colab": {
          "base_uri": "https://localhost:8080/"
        },
        "id": "GFtUB2dHwi9q",
        "outputId": "cd9f8939-b121-4876-98db-055383d3e7ec"
      },
      "execution_count": null,
      "outputs": [
        {
          "output_type": "stream",
          "name": "stdout",
          "text": [
            "20\n"
          ]
        }
      ]
    },
    {
      "cell_type": "code",
      "source": [
        "# Qual é o perímetro de um circulo cujo o raio mede 5 cm?\n",
        "'''\n",
        "Formula\n",
        "P = 2 pi . R\n",
        "pi = 3.14\n",
        "'''\n",
        "r = 5\n",
        "pi = 3.14\n",
        "\n",
        "perimetroCirculo = 2 * pi * r\n",
        "print(perimetroCirculo)"
      ],
      "metadata": {
        "colab": {
          "base_uri": "https://localhost:8080/"
        },
        "id": "JcLB7d4ixKco",
        "outputId": "ca59a268-219a-4558-98e8-c27e63574791"
      },
      "execution_count": null,
      "outputs": [
        {
          "output_type": "stream",
          "name": "stdout",
          "text": [
            "31.400000000000002\n"
          ]
        }
      ]
    },
    {
      "cell_type": "code",
      "source": [
        "# Ache o comprimento da hipotenusa de lados 3cm + 4cm\n",
        "'''\n",
        "formula\n",
        "a2 + b2 = c2\n",
        "'''\n",
        "a = 3\n",
        "b = 4\n",
        "c = a ** 2 + b ** 2\n",
        "hipotenusa = c ** 0.5\n",
        "print(hipotenusa)"
      ],
      "metadata": {
        "colab": {
          "base_uri": "https://localhost:8080/"
        },
        "id": "eA6bNtGyxhcR",
        "outputId": "606e06df-d0d3-40e2-9ad1-d5f93c36e704"
      },
      "execution_count": null,
      "outputs": [
        {
          "output_type": "stream",
          "name": "stdout",
          "text": [
            "5.0\n"
          ]
        }
      ]
    },
    {
      "cell_type": "markdown",
      "source": [
        "# ESTRUTURA DE DECISÃO"
      ],
      "metadata": {
        "id": "0cnEsPGjylYH"
      }
    },
    {
      "cell_type": "code",
      "source": [
        "# Exibir se o numero é maior ou menor que 10\n",
        "x = 50\n",
        "if(x > 10):\n",
        "  print('É maior que 10')\n",
        "else:\n",
        "  print('É menor que 10')\n"
      ],
      "metadata": {
        "colab": {
          "base_uri": "https://localhost:8080/"
        },
        "id": "f6PrVwNFyEh4",
        "outputId": "f11cb1f5-1074-4898-ec9e-edec79dc0886"
      },
      "execution_count": null,
      "outputs": [
        {
          "output_type": "stream",
          "name": "stdout",
          "text": [
            "É menor que 10\n"
          ]
        }
      ]
    },
    {
      "cell_type": "code",
      "source": [
        "# Exibir o maior número.\n",
        "x = 24\n",
        "y = 25\n",
        "\n",
        "if(x > y):\n",
        "  print(x, 'é maior')\n",
        "else:\n",
        "  print('Oh no!', y, ' é maior')"
      ],
      "metadata": {
        "colab": {
          "base_uri": "https://localhost:8080/"
        },
        "id": "1jkguc8jy5Yb",
        "outputId": "27055ba7-98a3-44ca-ed49-32902a568b29"
      },
      "execution_count": null,
      "outputs": [
        {
          "output_type": "stream",
          "name": "stdout",
          "text": [
            "Oh no! 25  é maior\n"
          ]
        }
      ]
    },
    {
      "cell_type": "code",
      "source": [
        "# Exibir o maior número entre os 3\n",
        "a = -10\n",
        "b = -40\n",
        "c = -2\n",
        "\n",
        "if(a > b and a > c):\n",
        "  print('O a é maior')\n",
        "elif(b > a and b > c):\n",
        "  print('O b é maior')\n",
        "else:\n",
        "  print('O c é o maior')"
      ],
      "metadata": {
        "colab": {
          "base_uri": "https://localhost:8080/"
        },
        "id": "tRKHWh1o0eqw",
        "outputId": "dc11ea7d-70c1-462a-988e-341cfbd142bd"
      },
      "execution_count": null,
      "outputs": [
        {
          "output_type": "stream",
          "name": "stdout",
          "text": [
            "O c é o maior\n"
          ]
        }
      ]
    },
    {
      "cell_type": "code",
      "source": [
        "# Leia duas notas e exiba se o aluno está aprovado ou reprovado. Para ser aprovado precisa de média igual ou maior que 7\n",
        "\n",
        "nota1 = 8\n",
        "nota2 = 6\n",
        "\n",
        "media = (nota1 + nota2) / 2\n",
        "if(media >= 7):\n",
        "  print(media, ' = Aprovado')\n",
        "else:\n",
        "  print(media, '= Reprovado')"
      ],
      "metadata": {
        "colab": {
          "base_uri": "https://localhost:8080/"
        },
        "id": "n3NUInoI1wvZ",
        "outputId": "3e6e52cf-ac72-448a-8dc9-5480b0cf61dc"
      },
      "execution_count": null,
      "outputs": [
        {
          "output_type": "stream",
          "name": "stdout",
          "text": [
            "7.0  = Aprovado\n"
          ]
        }
      ]
    },
    {
      "cell_type": "code",
      "source": [
        "# Condição de existencia de um triangulo\n",
        "'''\n",
        "a + b > c\n",
        "b + c > a\n",
        "a + c > b\n",
        "'''\n",
        "a = 10\n",
        "b = 8\n",
        "c = 7\n",
        "\n",
        "if(a + b > c and b + c > a and a + c > b):\n",
        "  print('é um triangulo') \n",
        "else:\n",
        "  print('não é um triangulo')"
      ],
      "metadata": {
        "colab": {
          "base_uri": "https://localhost:8080/"
        },
        "id": "Ce-45LcS2S-l",
        "outputId": "e9c292d9-c8b2-474d-efdd-987df19f1e4f"
      },
      "execution_count": null,
      "outputs": [
        {
          "output_type": "stream",
          "name": "stdout",
          "text": [
            "é um triangulo\n"
          ]
        }
      ]
    },
    {
      "cell_type": "code",
      "source": [
        "# Ler 3 notas e verificar se o aluno está aprovado (>= 7), em recuperação (> 4 w < 7) ou reprovado (<= 4)\n",
        "nota1 = 5\n",
        "nota2 = 8\n",
        "nota3 = 3\n",
        "\n",
        "media = (nota1 + nota2 + nota3) / 3\n",
        "print(media)\n",
        "\n",
        "if(media >= 7):\n",
        "  print('Aprovado, media: ', media)\n",
        "elif(media > 4 and media < 7):\n",
        "  print('Recuperação, media: ', media )\n",
        "else:\n",
        "  print('Reprovado, media ', media)"
      ],
      "metadata": {
        "colab": {
          "base_uri": "https://localhost:8080/"
        },
        "id": "eAxTi2Hw3H4p",
        "outputId": "cde9f632-7987-4fc1-e14f-97afcc3041fd"
      },
      "execution_count": null,
      "outputs": [
        {
          "output_type": "stream",
          "name": "stdout",
          "text": [
            "5.333333333333333\n",
            "Recuperação, media:  5.333333333333333\n"
          ]
        }
      ]
    },
    {
      "cell_type": "code",
      "source": [
        "# Calcule e exiba as metricas do IMC de uma pessoa\n",
        "'''\n",
        "formula\n",
        "abaixo do peso Inferior a 18,5\n",
        "Peso normal 18,5 a 24,9\n",
        "Excesso de peso 25,0 a 29,9\n",
        "Obeso 30 ou mais\n",
        "\n",
        "imc = peso / altura²\n",
        "'''\n",
        "peso = 70\n",
        "altura = 175 / 100 # Converte de cm para metros\n",
        "\n",
        "imc = round((peso / altura ** 2), 2) #round(valor, 2) - arredonda valor + quantas casas\n",
        "print(imc)\n",
        "\n",
        "if(imc < 18,5):\n",
        "  print('Abaixo do peso, IMC: ', imc)\n",
        "elif(imc < 25): #(24.9 > imc > 18.5)\n",
        "  print('Peso normal, IMC: ', imc)\n",
        "elif(imc < 30):\n",
        "  print('Excesso de peso, IMC: ', imc)\n",
        "else:\n",
        "  print('Obeso, IMC: ', imc)\n"
      ],
      "metadata": {
        "colab": {
          "base_uri": "https://localhost:8080/"
        },
        "id": "dya5RYOE5Rxt",
        "outputId": "96789ece-1a5c-41e0-d36a-ebdf64831c46"
      },
      "execution_count": null,
      "outputs": [
        {
          "output_type": "stream",
          "name": "stdout",
          "text": [
            "22.86\n",
            "Abaixo do peso, IMC:  22.86\n"
          ]
        }
      ]
    },
    {
      "cell_type": "markdown",
      "source": [
        "# DEVER DE CASA"
      ],
      "metadata": {
        "id": "NCP4cRUoIGOd"
      }
    },
    {
      "cell_type": "code",
      "source": [
        "# Leia os lados de um triangulo e diga o nome do Triangulo\n",
        "'''\n",
        "Triangulo Equilátero == 3 lados\n",
        "Triângulo Isosceles == 2 lados\n",
        "Triangulo Escaleno != 1 lados diferentes\n",
        "'''\n",
        "\n",
        "lado1 = 3\n",
        "lado2 = 2\n",
        "lado3 = 1\n",
        "\n",
        "if(lado1 == lado2 == lado3): #if(lado1 < lado2 > lado3) // #if(lado1 == lado2 and lado1 == lado3)\n",
        "  print('Triangulo Equilatero, pois os lados são: ', lado1, lado2, lado3)\n",
        "elif(lado1 == lado2 or lado1 == lado3 or lado2 == lado3):\n",
        "  print('Triangulo Isosceles, pois os lados são: ', lado1, lado2, lado3)\n",
        "else:\n",
        "  print('Triangulo Escaleno, pois os lados são: ', lado1, lado2, lado3)"
      ],
      "metadata": {
        "colab": {
          "base_uri": "https://localhost:8080/"
        },
        "id": "JunjHE5l6Twb",
        "outputId": "020e61e8-1b15-4b7b-89a7-c7908c4f14a5"
      },
      "execution_count": null,
      "outputs": [
        {
          "output_type": "stream",
          "name": "stdout",
          "text": [
            "Triangulo Escaleno, pois os lados são:  3 2 1\n"
          ]
        }
      ]
    },
    {
      "cell_type": "code",
      "source": [
        ""
      ],
      "metadata": {
        "id": "0yw8D20xJBdy"
      },
      "execution_count": null,
      "outputs": []
    }
  ]
}